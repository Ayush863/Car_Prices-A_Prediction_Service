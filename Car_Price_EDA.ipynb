{
  "cells": [
    {
      "cell_type": "markdown",
      "metadata": {
        "id": "SXlo8waBfCtM"
      },
      "source": [
        "# 1. Importing Libraries and loading the data"
      ]
    },
    {
      "cell_type": "code",
      "source": [
        "%matplotlib inline\n",
        "! pip install seaborn --quiet"
      ],
      "metadata": {
        "id": "N-ymMUaqhLe1"
      },
      "execution_count": 27,
      "outputs": []
    },
    {
      "cell_type": "code",
      "execution_count": 2,
      "metadata": {
        "execution": {
          "iopub.execute_input": "2022-08-14T21:39:21.938661Z",
          "iopub.status.busy": "2022-08-14T21:39:21.938215Z",
          "iopub.status.idle": "2022-08-14T21:39:21.945950Z",
          "shell.execute_reply": "2022-08-14T21:39:21.944789Z",
          "shell.execute_reply.started": "2022-08-14T21:39:21.938626Z"
        },
        "trusted": true,
        "id": "BhDF1VKYfCuC"
      },
      "outputs": [],
      "source": [
        "# Simple python imports\n",
        "import math\n",
        "\n",
        "# Importing data processing libraries\n",
        "import numpy as np\n",
        "import pandas as pd\n",
        "from pandas_profiling import ProfileReport\n",
        "\n",
        "# Importing data visualization libraries\n",
        "from prettytable import PrettyTable\n",
        "import matplotlib.pyplot as plt\n",
        "import seaborn as sns\n",
        "from matplotlib import style\n",
        "style.use('ggplot')\n",
        "# %config InlineBackend.figure_format = 'retina' # Retina display\n",
        "\n",
        "# Importing jupyter widgets\n",
        "import ipywidgets as widgets\n",
        "from ipywidgets import interact, interactive, fixed, interact_manual\n",
        "\n",
        "# Importing file system libraries\n",
        "import pickle\n",
        "\n",
        "# Importing machine learning libraries\n",
        "# from sklearn.metrics import r2_score, mean_absolute_error, mean_squared_error, make_scorer\n",
        "# from sklearn.model_selection import GridSearchCV\n",
        "# from sklearn.ensemble import RandomForestRegressor\n",
        "\n",
        "pd.options.display.max_columns = None"
      ]
    },
    {
      "cell_type": "code",
      "execution_count": 3,
      "metadata": {
        "execution": {
          "iopub.execute_input": "2022-08-14T19:15:26.523622Z",
          "iopub.status.busy": "2022-08-14T19:15:26.522622Z",
          "iopub.status.idle": "2022-08-14T19:15:26.612782Z",
          "shell.execute_reply": "2022-08-14T19:15:26.611281Z",
          "shell.execute_reply.started": "2022-08-14T19:15:26.523547Z"
        },
        "trusted": true,
        "colab": {
          "base_uri": "https://localhost:8080/",
          "height": 206
        },
        "id": "_l-EmTxNfCuG",
        "outputId": "6cfb5dc3-95ed-444c-eab2-4b9045c9328b"
      },
      "outputs": [
        {
          "output_type": "execute_result",
          "data": {
            "text/plain": [
              "                               full_name  selling_price seller_type  \\\n",
              "0      Toyota Land Cruiser 200 V8 Petrol           92.0      Dealer   \n",
              "1  Land Rover Range Rover Sport 3.0 D SE           92.0      Dealer   \n",
              "2          Toyota Land Cruiser Prado VXL           87.5      Dealer   \n",
              "3       BMW 7 Series 730Ld DPE Signature           85.0  Individual   \n",
              "4       BMW 7 Series 730Ld DPE Signature           85.0      Dealer   \n",
              "\n",
              "   km_driven   owner_type fuel_type transmission_type  mileage  engine  \\\n",
              "0      80000  First Owner    Petrol         Automatic     9.00  4461.0   \n",
              "1       9500  First Owner    Diesel         Automatic    12.65  2993.0   \n",
              "2      36000  First Owner    Diesel         Automatic    11.00  2982.0   \n",
              "3      50000  First Owner    Diesel         Automatic    16.77  2993.0   \n",
              "4      19000  First Owner    Diesel         Automatic    17.66  2993.0   \n",
              "\n",
              "   max_power  seats  age  \n",
              "0     285.40    8.0    6  \n",
              "1     296.00    5.0    5  \n",
              "2     170.63    7.0    3  \n",
              "3     261.49    5.0    4  \n",
              "4     355.37    4.0    4  "
            ],
            "text/html": [
              "\n",
              "  <div id=\"df-34d081bc-3b90-4aa3-892b-a829adc4a910\">\n",
              "    <div class=\"colab-df-container\">\n",
              "      <div>\n",
              "<style scoped>\n",
              "    .dataframe tbody tr th:only-of-type {\n",
              "        vertical-align: middle;\n",
              "    }\n",
              "\n",
              "    .dataframe tbody tr th {\n",
              "        vertical-align: top;\n",
              "    }\n",
              "\n",
              "    .dataframe thead th {\n",
              "        text-align: right;\n",
              "    }\n",
              "</style>\n",
              "<table border=\"1\" class=\"dataframe\">\n",
              "  <thead>\n",
              "    <tr style=\"text-align: right;\">\n",
              "      <th></th>\n",
              "      <th>full_name</th>\n",
              "      <th>selling_price</th>\n",
              "      <th>seller_type</th>\n",
              "      <th>km_driven</th>\n",
              "      <th>owner_type</th>\n",
              "      <th>fuel_type</th>\n",
              "      <th>transmission_type</th>\n",
              "      <th>mileage</th>\n",
              "      <th>engine</th>\n",
              "      <th>max_power</th>\n",
              "      <th>seats</th>\n",
              "      <th>age</th>\n",
              "    </tr>\n",
              "  </thead>\n",
              "  <tbody>\n",
              "    <tr>\n",
              "      <th>0</th>\n",
              "      <td>Toyota Land Cruiser 200 V8 Petrol</td>\n",
              "      <td>92.0</td>\n",
              "      <td>Dealer</td>\n",
              "      <td>80000</td>\n",
              "      <td>First Owner</td>\n",
              "      <td>Petrol</td>\n",
              "      <td>Automatic</td>\n",
              "      <td>9.00</td>\n",
              "      <td>4461.0</td>\n",
              "      <td>285.40</td>\n",
              "      <td>8.0</td>\n",
              "      <td>6</td>\n",
              "    </tr>\n",
              "    <tr>\n",
              "      <th>1</th>\n",
              "      <td>Land Rover Range Rover Sport 3.0 D SE</td>\n",
              "      <td>92.0</td>\n",
              "      <td>Dealer</td>\n",
              "      <td>9500</td>\n",
              "      <td>First Owner</td>\n",
              "      <td>Diesel</td>\n",
              "      <td>Automatic</td>\n",
              "      <td>12.65</td>\n",
              "      <td>2993.0</td>\n",
              "      <td>296.00</td>\n",
              "      <td>5.0</td>\n",
              "      <td>5</td>\n",
              "    </tr>\n",
              "    <tr>\n",
              "      <th>2</th>\n",
              "      <td>Toyota Land Cruiser Prado VXL</td>\n",
              "      <td>87.5</td>\n",
              "      <td>Dealer</td>\n",
              "      <td>36000</td>\n",
              "      <td>First Owner</td>\n",
              "      <td>Diesel</td>\n",
              "      <td>Automatic</td>\n",
              "      <td>11.00</td>\n",
              "      <td>2982.0</td>\n",
              "      <td>170.63</td>\n",
              "      <td>7.0</td>\n",
              "      <td>3</td>\n",
              "    </tr>\n",
              "    <tr>\n",
              "      <th>3</th>\n",
              "      <td>BMW 7 Series 730Ld DPE Signature</td>\n",
              "      <td>85.0</td>\n",
              "      <td>Individual</td>\n",
              "      <td>50000</td>\n",
              "      <td>First Owner</td>\n",
              "      <td>Diesel</td>\n",
              "      <td>Automatic</td>\n",
              "      <td>16.77</td>\n",
              "      <td>2993.0</td>\n",
              "      <td>261.49</td>\n",
              "      <td>5.0</td>\n",
              "      <td>4</td>\n",
              "    </tr>\n",
              "    <tr>\n",
              "      <th>4</th>\n",
              "      <td>BMW 7 Series 730Ld DPE Signature</td>\n",
              "      <td>85.0</td>\n",
              "      <td>Dealer</td>\n",
              "      <td>19000</td>\n",
              "      <td>First Owner</td>\n",
              "      <td>Diesel</td>\n",
              "      <td>Automatic</td>\n",
              "      <td>17.66</td>\n",
              "      <td>2993.0</td>\n",
              "      <td>355.37</td>\n",
              "      <td>4.0</td>\n",
              "      <td>4</td>\n",
              "    </tr>\n",
              "  </tbody>\n",
              "</table>\n",
              "</div>\n",
              "      <button class=\"colab-df-convert\" onclick=\"convertToInteractive('df-34d081bc-3b90-4aa3-892b-a829adc4a910')\"\n",
              "              title=\"Convert this dataframe to an interactive table.\"\n",
              "              style=\"display:none;\">\n",
              "        \n",
              "  <svg xmlns=\"http://www.w3.org/2000/svg\" height=\"24px\"viewBox=\"0 0 24 24\"\n",
              "       width=\"24px\">\n",
              "    <path d=\"M0 0h24v24H0V0z\" fill=\"none\"/>\n",
              "    <path d=\"M18.56 5.44l.94 2.06.94-2.06 2.06-.94-2.06-.94-.94-2.06-.94 2.06-2.06.94zm-11 1L8.5 8.5l.94-2.06 2.06-.94-2.06-.94L8.5 2.5l-.94 2.06-2.06.94zm10 10l.94 2.06.94-2.06 2.06-.94-2.06-.94-.94-2.06-.94 2.06-2.06.94z\"/><path d=\"M17.41 7.96l-1.37-1.37c-.4-.4-.92-.59-1.43-.59-.52 0-1.04.2-1.43.59L10.3 9.45l-7.72 7.72c-.78.78-.78 2.05 0 2.83L4 21.41c.39.39.9.59 1.41.59.51 0 1.02-.2 1.41-.59l7.78-7.78 2.81-2.81c.8-.78.8-2.07 0-2.86zM5.41 20L4 18.59l7.72-7.72 1.47 1.35L5.41 20z\"/>\n",
              "  </svg>\n",
              "      </button>\n",
              "      \n",
              "  <style>\n",
              "    .colab-df-container {\n",
              "      display:flex;\n",
              "      flex-wrap:wrap;\n",
              "      gap: 12px;\n",
              "    }\n",
              "\n",
              "    .colab-df-convert {\n",
              "      background-color: #E8F0FE;\n",
              "      border: none;\n",
              "      border-radius: 50%;\n",
              "      cursor: pointer;\n",
              "      display: none;\n",
              "      fill: #1967D2;\n",
              "      height: 32px;\n",
              "      padding: 0 0 0 0;\n",
              "      width: 32px;\n",
              "    }\n",
              "\n",
              "    .colab-df-convert:hover {\n",
              "      background-color: #E2EBFA;\n",
              "      box-shadow: 0px 1px 2px rgba(60, 64, 67, 0.3), 0px 1px 3px 1px rgba(60, 64, 67, 0.15);\n",
              "      fill: #174EA6;\n",
              "    }\n",
              "\n",
              "    [theme=dark] .colab-df-convert {\n",
              "      background-color: #3B4455;\n",
              "      fill: #D2E3FC;\n",
              "    }\n",
              "\n",
              "    [theme=dark] .colab-df-convert:hover {\n",
              "      background-color: #434B5C;\n",
              "      box-shadow: 0px 1px 3px 1px rgba(0, 0, 0, 0.15);\n",
              "      filter: drop-shadow(0px 1px 2px rgba(0, 0, 0, 0.3));\n",
              "      fill: #FFFFFF;\n",
              "    }\n",
              "  </style>\n",
              "\n",
              "      <script>\n",
              "        const buttonEl =\n",
              "          document.querySelector('#df-34d081bc-3b90-4aa3-892b-a829adc4a910 button.colab-df-convert');\n",
              "        buttonEl.style.display =\n",
              "          google.colab.kernel.accessAllowed ? 'block' : 'none';\n",
              "\n",
              "        async function convertToInteractive(key) {\n",
              "          const element = document.querySelector('#df-34d081bc-3b90-4aa3-892b-a829adc4a910');\n",
              "          const dataTable =\n",
              "            await google.colab.kernel.invokeFunction('convertToInteractive',\n",
              "                                                     [key], {});\n",
              "          if (!dataTable) return;\n",
              "\n",
              "          const docLinkHtml = 'Like what you see? Visit the ' +\n",
              "            '<a target=\"_blank\" href=https://colab.research.google.com/notebooks/data_table.ipynb>data table notebook</a>'\n",
              "            + ' to learn more about interactive tables.';\n",
              "          element.innerHTML = '';\n",
              "          dataTable['output_type'] = 'display_data';\n",
              "          await google.colab.output.renderOutput(dataTable, element);\n",
              "          const docLink = document.createElement('div');\n",
              "          docLink.innerHTML = docLinkHtml;\n",
              "          element.appendChild(docLink);\n",
              "        }\n",
              "      </script>\n",
              "    </div>\n",
              "  </div>\n",
              "  "
            ]
          },
          "metadata": {},
          "execution_count": 3
        }
      ],
      "source": [
        "raw_data = pd.read_csv('/content/car_prices_clean_v2.csv')\n",
        "\n",
        "df = raw_data.copy()\n",
        "\n",
        "df.head()"
      ]
    },
    {
      "cell_type": "markdown",
      "metadata": {
        "id": "xzXU_paefCuI"
      },
      "source": [
        "# 2. Exploratory Data Analysis\n",
        "In this section, we would be exploring the dataset and try to find patterns, which would be helpful in *feature engineering* when we build a model to predict the price of a used car"
      ]
    },
    {
      "cell_type": "markdown",
      "metadata": {
        "id": "wMboAYspfCuJ"
      },
      "source": [
        "### 2.0 Helper functions for EDA"
      ]
    },
    {
      "cell_type": "code",
      "execution_count": 4,
      "metadata": {
        "id": "6nADG-bZfCuK"
      },
      "outputs": [],
      "source": [
        "# Function to get a genreal overview of the data with some basic statistics\n",
        "def overview_data(data: pd.DataFrame, col: str) -> None:\n",
        "\t'''\n",
        "\tInput arguments:\n",
        "\t- data : pandas dataframe\n",
        "\t- col : column name\n",
        "\n",
        "\tOutputs:\n",
        "\t- None : Prints the overview of the column:\n",
        "\t\t\t\t- Distinct count\n",
        "\t\t\t\t- Distinct %\n",
        "\t\t\t\t- Missing count\n",
        "\t\t\t\t- Missing %\n",
        "\t\t\t\t- Mean\n",
        "\t\t\t\t- Minimum\n",
        "\t\t\t\t- Maximum\n",
        "\t'''\n",
        "\tt = PrettyTable(['Measure', 'Value'])\n",
        "\tt.add_row(['Distinct Count', data[col].nunique()])\n",
        "\tt.add_row(['Distinct %', data[col].nunique()/data.shape[0]*100])\n",
        "\tt.add_row(['Missing Count', data[col].isna().sum()])\n",
        "\tt.add_row(['Missing %', data[col].isna().sum()/data.shape[0]*100])\n",
        "\tt.add_row(['Mean', data[col].mean()])\n",
        "\tt.add_row(['Minimum', data[col].min()])\n",
        "\tt.add_row(['Maximum', data[col].max()])\n",
        "\n",
        "\t# Display the overview of the dataframe\n",
        "\tprint(f'Overview of column \"{col}\"')\n",
        "\tprint(t)\n",
        "\t\n",
        "\tprint('\\n')\n",
        "\treturn\n",
        "\n",
        "# Function to get the quantile statistics for a numeric column\n",
        "def quantile_statistics_for_column(data: pd.DataFrame, col: str) -> dict:\n",
        "\t'''\n",
        "\tInput arguments:\n",
        "\t- data : pandas dataframe\n",
        "\t- col : column name\n",
        "\n",
        "\tOutputs:\n",
        "\t- quantile_stats: Returns a dictionary with quantile stats for the column which includes:\n",
        "\t\t\t\t\t\t\t- min : Minimum value\n",
        "\t\t\t\t\t\t\t- 5% : 5th percentile value\n",
        "\t\t\t\t\t\t\t- q1 : First quartile value\n",
        "\t\t\t\t\t\t\t- median : Median value\n",
        "\t\t\t\t\t\t\t- q3 : Third quartile value\n",
        "\t\t\t\t\t\t\t- 95% : 95th percentile value\n",
        "\t\t\t\t\t\t\t- max : Maximum value\n",
        "\t\t\t\t\t\t\t- range: Range of values\n",
        "\t\t\t\t\t\t\t- IQR : Interquartile range\n",
        "\t'''\n",
        "\n",
        "\t# Check if the column exists in the dataframe\n",
        "\tif col not in data.columns:\n",
        "\t\tprint(f'Column {col} not found in the dataframe')\n",
        "\t\treturn\n",
        "\t\n",
        "\t# Check if the column is numeric\n",
        "\tif data[col].dtype != 'float64' and data[col].dtype != 'int64':\n",
        "\t\tprint(f'Column {col} is not numeric')\n",
        "\t\treturn\n",
        "\n",
        "\tquantile_stats = {}\n",
        "\tquantile_stats['min'] = data[col].min()\n",
        "\tquantile_stats['5%'] = data[col].quantile(0.05)\n",
        "\tquantile_stats['Q1'] = data[col].quantile(0.25)\n",
        "\tquantile_stats['median'] = data[col].median()\n",
        "\tquantile_stats['Q3'] = data[col].quantile(0.75)\n",
        "\tquantile_stats['95%'] = data[col].quantile(0.95)\n",
        "\tquantile_stats['max'] = data[col].max()\n",
        "\tquantile_stats['range'] = quantile_stats['max'] - quantile_stats['min']\n",
        "\tquantile_stats['IQR'] = quantile_stats['Q3'] - quantile_stats['Q1']\n",
        "\n",
        "\t# Display the quantile stats\n",
        "\tprint(f'Quantile stats for column \"{col}\"')\n",
        "\tt = PrettyTable(['Statistic', 'Value'])\n",
        "\tt.add_row(['Minimum', quantile_stats['min']])\n",
        "\tt.add_row(['5th Percentile', quantile_stats['5%']])\n",
        "\tt.add_row(['First Quartile, Q1', quantile_stats['Q1']])\n",
        "\tt.add_row(['Median', quantile_stats['median']])\n",
        "\tt.add_row(['Third Quartile, Q3', quantile_stats['Q3']])\n",
        "\tt.add_row(['95th Percentile', quantile_stats['95%']])\n",
        "\tt.add_row(['Maximum', quantile_stats['max']])\n",
        "\tt.add_row(['Range', quantile_stats['range']])\n",
        "\tt.add_row(['Interquartile Range', quantile_stats['IQR']])\n",
        "\tprint(t)\n",
        "\n",
        "\tprint('\\n')\n",
        "\treturn quantile_stats\n",
        "\n",
        "# Function to get the descriptive statistics for a numeric column\n",
        "def descriptive_statistics_for_column(data: pd.DataFrame, col: str) -> dict:\n",
        "\t'''\n",
        "\tInput arguments:\n",
        "\t- data : pandas dataframe\n",
        "\t- col : column name\n",
        "\n",
        "\tOutputs:\n",
        "\t- descriptive_stats : Return a dictionary with descriptive stats for the column which includes:\n",
        "\t\t\t\t\t\t\t\t- mean: Mean\n",
        "\t\t\t\t\t\t\t\t- sum: Sum\n",
        "\t\t\t\t\t\t\t\t- var: Variance\n",
        "\t\t\t\t\t\t\t\t- std : Standard deviation\n",
        "\t\t\t\t\t\t\t\t- CV : Coefficient of variation\n",
        "\t\t\t\t\t\t\t\t- kurtosis: Kurtosis\n",
        "\t\t\t\t\t\t\t\t- MAD: Mean Absolute Deviation\n",
        "\t\t\t\t\t\t\t\t- skewness: Skewness\n",
        "\t\t\t\t\t\t\t\t- mono: true if monotonous\n",
        "\n",
        "\t'''\n",
        "\n",
        "\t# Check if the column exists in the dataframe\n",
        "\tif col not in data.columns:\n",
        "\t\tprint(f'Column {col} not found in the dataframe')\n",
        "\t\treturn\n",
        "\t\n",
        "\t# Check if the column is numeric\n",
        "\tif data[col].dtype != 'float64' and data[col].dtype != 'int64':\n",
        "\t\tprint(f'Column {col} is not numeric')\n",
        "\t\treturn\n",
        "\t\n",
        "\tdescriptive_stats = {}\n",
        "\tdescriptive_stats['mean'] = data[col].mean()\n",
        "\tdescriptive_stats['sum'] = data[col].sum()\n",
        "\tdescriptive_stats['var'] = data[col].var()\n",
        "\tdescriptive_stats['std'] = data[col].std()\n",
        "\tdescriptive_stats['CV'] = descriptive_stats['std'] / descriptive_stats['mean']\n",
        "\tdescriptive_stats['kurtosis'] = data[col].kurtosis()\n",
        "\tdescriptive_stats['MAD'] = data[col].mad()\n",
        "\tdescriptive_stats['skewness'] = data[col].skew()\n",
        "\tdescriptive_stats['mono'] = data[col].is_monotonic_increasing or data[col].is_monotonic_decreasing\n",
        "\n",
        "\t# Display the descriptive stats\n",
        "\tprint(f'Descriptive stats for column \"{col}\"')\n",
        "\tt = PrettyTable(['Statistic', 'Value'])\n",
        "\tt.add_row(['Mean', descriptive_stats['mean']])\n",
        "\tt.add_row(['Sum', descriptive_stats['sum']])\n",
        "\tt.add_row(['Variance', descriptive_stats['var']])\n",
        "\tt.add_row(['Standard deviation', descriptive_stats['std']])\n",
        "\tt.add_row(['Coefficient of variation', descriptive_stats['CV']])\n",
        "\tt.add_row(['Kurtosis', descriptive_stats['kurtosis']])\n",
        "\tt.add_row(['Mean absolute deviation', descriptive_stats['MAD']])\n",
        "\tt.add_row(['Skewness', descriptive_stats['skewness']])\n",
        "\tt.add_row(['Monotonous', descriptive_stats['mono']])\n",
        "\tprint(t)\n",
        "\n",
        "\tprint('\\n')\n",
        "\treturn descriptive_stats\n",
        "\n",
        "# Function to get the max and min values for a numeric column\n",
        "def extremums_for_column(data: pd.DataFrame, col: str, n: int = 5) -> pd.DataFrame:\n",
        "\t'''\n",
        "\tInput arguments:\n",
        "\t- data : pandas dataframe\n",
        "\t- col : column name\n",
        "\n",
        "\tOutputs:\n",
        "\t- extremums: Return a dataframe with extremums for the column which includes:\n",
        "\t\t\t\t\t- max_n: \"n\" largest values in the column\n",
        "\t\t\t\t\t- min_n: \"n\" smallest values in the column\n",
        "\n",
        "\t'''\n",
        "\n",
        "\t# Check if the column exists in the dataframe\n",
        "\tif col not in data.columns:\n",
        "\t\tprint(f'Column \"{col}\" not found in the dataframe')\n",
        "\t\treturn\n",
        "\t\n",
        "\t# Check if the column is numeric\n",
        "\tif data[col].dtype != 'float64' and data[col].dtype != 'int64':\n",
        "\t\tprint(f'Column \"{col}\" is not numeric')\n",
        "\t\treturn\n",
        "\t\n",
        "\textremums = {}\n",
        "\textremums['max_n'] = data[col].value_counts().sort_index(ascending=False).head(5)\n",
        "\textremums['min_n'] = data[col].value_counts().sort_index(ascending=True).head(5)\n",
        "\n",
        "\t# Display the extremums\n",
        "\tprint(f'Extremums for column \"{col}\"')\n",
        "\n",
        "\tprint(f'Maximum {n} values')\n",
        "\tt = PrettyTable(['Value', 'Count', 'Freq'])\n",
        "\tfor (index, value) in extremums['max_n'].iteritems():\n",
        "\t\tt.add_row([index, value, value / len(data[col]) * 100])\n",
        "\tprint(t)\n",
        "\n",
        "\tprint(f'Minimum {n} values')\n",
        "\tt = PrettyTable(['Value', 'Count', 'Freq'])\n",
        "\tfor (index, value) in extremums['min_n'].iteritems():\n",
        "\t\tt.add_row([index, value, value / len(data[col]) * 100])\n",
        "\tprint(t)\n",
        "\n",
        "\tprint('\\n')\n",
        "\treturn extremums\n",
        "\n",
        "# Function to check the most frquently occuring values (preferably for a categorical column)\n",
        "def common_values(data: pd.DataFrame, col: str, n: int = 5) -> pd.DataFrame:\n",
        "\t'''\n",
        "\tInput arguments:\n",
        "\t- data : pandas dataframe\n",
        "\t- col : column name\n",
        "\n",
        "\tOutputs:\n",
        "\t- common_values: Return a dataframe with common values for the column which includes:\n",
        "\t\t\t\t\t\t- value: Common value in the column\n",
        "\t\t\t\t\t\t- count: Count of the value in the column\n",
        "\t\t\t\t\t\t- freq: Frequency of the value in the column\n",
        "\t'''\n",
        "\n",
        "\tn_values = data[col].value_counts().nlargest(n)\n",
        "\tcommon_values = pd.DataFrame()\n",
        "\tcommon_values['value'] = n_values.index\n",
        "\tcommon_values['count'] = n_values.values\n",
        "\tcommon_values['freq'] = 100 * common_values['count'] / data[col].count()\n",
        "\n",
        "\t# Display the common values\n",
        "\tprint(f'Common values for column \"{col}\"')\n",
        "\tt = PrettyTable(['Value', 'Count', 'Frequency'])\n",
        "\tfor (v, c, f) in zip(common_values['value'], common_values['count'], common_values['freq']):\n",
        "\t\tt.add_row([v, c, f])\n",
        "\tprint(t)\n",
        "\n",
        "\tprint('\\n')\n",
        "\treturn common_values\n",
        "\n",
        "def categorical_overview(data: pd.DataFrame, col: str) -> pd.DataFrame:\n",
        "\t'''\n",
        "\tInput arguments:\n",
        "\t- data : pandas dataframe\n",
        "\t- col : column name\n",
        "\n",
        "\tOutputs:\n",
        "\t- None: Prints the overview of the categorical column:\n",
        "\t\t\t- Distinct: Number of distinct values in the column\n",
        "\t\t\t- Distinct (%) : Percentage of distinct values in the column\n",
        "\t\t\t- Missing: Number of missing values in the column\n",
        "\t\t\t- Missing (%) : Percentage of missing values in the column\n",
        "\t'''\n",
        "\n",
        "\tt = PrettyTable(['Measure', 'Value'])\n",
        "\tt.add_row(['Distinct Count', data[col].nunique()])\n",
        "\tt.add_row(['Distinct %', data[col].nunique()/data.shape[0]*100])\n",
        "\tt.add_row(['Missing Count', data[col].isna().sum()])\n",
        "\tt.add_row(['Missing %', data[col].isna().sum()/data.shape[0]*100])\n",
        "\n",
        "\t# Display the unique values\n",
        "\tprint(f'Overview of column \"{col}\"')\n",
        "\tprint(t)\n",
        "\n",
        "\tprint('\\n')"
      ]
    },
    {
      "cell_type": "code",
      "execution_count": 5,
      "metadata": {
        "id": "xlsGl0KzfCuP"
      },
      "outputs": [],
      "source": [
        "def analyze_data(df: pd.DataFrame, col: str, **kwargs) -> dict():\n",
        "\tn = kwargs.get('n', 5)\n",
        "\t\n",
        "\t# Check if column exists in the dataframe\n",
        "\tif col not in df.columns:\n",
        "\t\tprint(f'Column \"{col}\" not found in the dataframe')\n",
        "\t\treturn\n",
        "\t\t\n",
        "\t# Check if the column is numeric\n",
        "\tif df[col].dtype == 'float64' or df[col].dtype == 'int64':\n",
        "\t\tprint(f'\\tAnalyzing: Column \"{col}\" is numeric\\n')\t\t\n",
        "\t\toverview_data(df, col)\n",
        "\t\tquantile_stats = quantile_statistics_for_column(df, col)\n",
        "\t\tdescriptive_stats = descriptive_statistics_for_column(df, col)\n",
        "\t\textremums = extremums_for_column(df, col, n)\n",
        "\t\tcommon_val = common_values(df, col, n)\n",
        "\t\treturn { 'quantile_stats': quantile_stats, \n",
        "\t\t\t\t\t'descriptive_stats': descriptive_stats, \n",
        "\t\t\t\t\t'extremums': extremums,\n",
        "\t\t\t\t\t'common_values': common_val\n",
        "\t\t\t\t\t}\n",
        "\telse:\n",
        "\t\tprint(f'Column \"{col}\" is categorical')\n",
        "\t\tcategorical_overview(df, col)\n",
        "\t\tcommon_val = common_values(df, col, n)\n",
        "\t\treturn { 'common_values': common_val }"
      ]
    },
    {
      "cell_type": "markdown",
      "metadata": {
        "id": "fWwbxwKvfCuQ"
      },
      "source": [
        "## 2.1 Variable Types"
      ]
    },
    {
      "cell_type": "code",
      "execution_count": 6,
      "metadata": {
        "colab": {
          "base_uri": "https://localhost:8080/"
        },
        "id": "jF3NHkuOfCuR",
        "outputId": "946d48a7-c109-485a-f3c6-14456effca23"
      },
      "outputs": [
        {
          "output_type": "stream",
          "name": "stdout",
          "text": [
            "<class 'pandas.core.frame.DataFrame'>\n",
            "RangeIndex: 10321 entries, 0 to 10320\n",
            "Data columns (total 12 columns):\n",
            " #   Column             Non-Null Count  Dtype  \n",
            "---  ------             --------------  -----  \n",
            " 0   full_name          10321 non-null  object \n",
            " 1   selling_price      10321 non-null  float64\n",
            " 2   seller_type        10321 non-null  object \n",
            " 3   km_driven          10321 non-null  int64  \n",
            " 4   owner_type         10321 non-null  object \n",
            " 5   fuel_type          10321 non-null  object \n",
            " 6   transmission_type  10321 non-null  object \n",
            " 7   mileage            10321 non-null  float64\n",
            " 8   engine             10321 non-null  float64\n",
            " 9   max_power          10321 non-null  float64\n",
            " 10  seats              10321 non-null  float64\n",
            " 11  age                10321 non-null  int64  \n",
            "dtypes: float64(5), int64(2), object(5)\n",
            "memory usage: 967.7+ KB\n"
          ]
        }
      ],
      "source": [
        "df.info()"
      ]
    },
    {
      "cell_type": "markdown",
      "metadata": {
        "id": "VcgkdcmQfCuS"
      },
      "source": [
        "The categorical variables are:\n",
        "- `full_name`\n",
        "- `seller_type`\n",
        "- `owner_type`\n",
        "- `fuel_type`\n",
        "- `transmission_type`\n",
        "- `seats`"
      ]
    },
    {
      "cell_type": "code",
      "execution_count": 7,
      "metadata": {
        "colab": {
          "base_uri": "https://localhost:8080/"
        },
        "id": "cfk6Tsv1fCuT",
        "outputId": "ee24e250-9293-43bf-8835-8ee9e3bd0285"
      },
      "outputs": [
        {
          "output_type": "stream",
          "name": "stdout",
          "text": [
            "Maruti Swift Dzire VDI                      141\n",
            "Mahindra XUV500 W8 2WD                       63\n",
            "Maruti Vitara Brezza ZDi Plus                57\n",
            "Maruti Vitara Brezza ZDi                     51\n",
            "Maruti Baleno Delta 1.2                      50\n",
            "                                           ... \n",
            "Hyundai i20 1.4 Asta AT (O) with Sunroof      1\n",
            "Tata Safari Storme VX 4WD                     1\n",
            "Toyota Innova Crysta 2.5 VX BSIV              1\n",
            "Mahindra Scorpio S4 Plus 4WD                  1\n",
            "Nissan Micra Fashion Edition XL CVT           1\n",
            "Name: full_name, Length: 2126, dtype: int64\n",
            "---------------------------------------- \n",
            "\n",
            "Diesel      6581\n",
            "Petrol      3667\n",
            "CNG           64\n",
            "Electric       9\n",
            "Name: fuel_type, dtype: int64\n",
            "---------------------------------------- \n",
            "\n",
            "Dealer              6787\n",
            "Individual          3430\n",
            "Trustmark Dealer     104\n",
            "Name: seller_type, dtype: int64\n",
            "---------------------------------------- \n",
            "\n",
            "Manual       7004\n",
            "Automatic    3317\n",
            "Name: transmission_type, dtype: int64\n",
            "---------------------------------------- \n",
            "\n",
            "First Owner     10320\n",
            "Second Owner        1\n",
            "Name: owner_type, dtype: int64\n",
            "---------------------------------------- \n",
            "\n",
            "5.0     7848\n",
            "7.0     1956\n",
            "8.0      281\n",
            "4.0       91\n",
            "6.0       76\n",
            "9.0       46\n",
            "2.0       16\n",
            "10.0       7\n",
            "Name: seats, dtype: int64\n",
            "---------------------------------------- \n",
            "\n"
          ]
        }
      ],
      "source": [
        "categorical_columns = ['full_name', 'fuel_type', 'seller_type', 'transmission_type', 'owner_type', 'seats']\n",
        "for column in categorical_columns:\n",
        "\tprint(f'{df[column].value_counts()}')\n",
        "\tprint('--'*20, '\\n')"
      ]
    },
    {
      "cell_type": "markdown",
      "metadata": {
        "id": "acWsqnDkfCuU"
      },
      "source": [
        "## 2.2 Desciptive Analysis"
      ]
    },
    {
      "cell_type": "markdown",
      "metadata": {
        "id": "Y5jQDBEvfCuU"
      },
      "source": [
        "### 2.2.1 Numeric Features"
      ]
    },
    {
      "cell_type": "markdown",
      "metadata": {
        "id": "p3EbEnlsfCuV"
      },
      "source": [
        "#### Selling price: `selling_price`"
      ]
    },
    {
      "cell_type": "markdown",
      "metadata": {
        "id": "ZO7q-xc6fCuV"
      },
      "source": [
        "Summary: \n",
        "- The mean selling price is around INR 11.07 Lakhs\n",
        "- The median price is lower than the mean at around INR 7.65 Lakhs\n",
        "- The maximum selling price is INR 92 Lakhs\n",
        "- The Coefficient of variation is about 87.1%\n",
        "- As such, the kurtosis is ~15"
      ]
    },
    {
      "cell_type": "code",
      "execution_count": 8,
      "metadata": {
        "colab": {
          "base_uri": "https://localhost:8080/"
        },
        "id": "Hmes8e5zfCuW",
        "outputId": "3f117ad3-5b6e-4cd5-b931-df4b90f7253a"
      },
      "outputs": [
        {
          "output_type": "stream",
          "name": "stdout",
          "text": [
            "\tAnalyzing: Column \"selling_price\" is numeric\n",
            "\n",
            "Overview of column \"selling_price\"\n",
            "+----------------+--------------------+\n",
            "|    Measure     |       Value        |\n",
            "+----------------+--------------------+\n",
            "| Distinct Count |        808         |\n",
            "|   Distinct %   | 7.828698769499079  |\n",
            "| Missing Count  |         0          |\n",
            "|   Missing %    |        0.0         |\n",
            "|      Mean      | 11.070784807673675 |\n",
            "|    Minimum     |        5.0         |\n",
            "|    Maximum     |        92.0        |\n",
            "+----------------+--------------------+\n",
            "\n",
            "\n",
            "Quantile stats for column \"selling_price\"\n",
            "+---------------------+-------+\n",
            "|      Statistic      | Value |\n",
            "+---------------------+-------+\n",
            "|       Minimum       |  5.0  |\n",
            "|    5th Percentile   |  5.25 |\n",
            "|  First Quartile, Q1 |  6.1  |\n",
            "|        Median       |  7.65 |\n",
            "|  Third Quartile, Q3 | 11.35 |\n",
            "|   95th Percentile   |  30.0 |\n",
            "|       Maximum       |  92.0 |\n",
            "|        Range        |  87.0 |\n",
            "| Interquartile Range |  5.25 |\n",
            "+---------------------+-------+\n",
            "\n",
            "\n",
            "Descriptive stats for column \"selling_price\"\n",
            "+--------------------------+--------------------+\n",
            "|        Statistic         |       Value        |\n",
            "+--------------------------+--------------------+\n",
            "|           Mean           | 11.070784807673675 |\n",
            "|           Sum            |     114261.57      |\n",
            "|         Variance         | 93.12171099254435  |\n",
            "|    Standard deviation    | 9.649959118698087  |\n",
            "| Coefficient of variation | 0.8716598946092107 |\n",
            "|         Kurtosis         | 15.64598356846234  |\n",
            "| Mean absolute deviation  | 5.894012032758245  |\n",
            "|         Skewness         | 3.513319830975561  |\n",
            "|        Monotonous        |        True        |\n",
            "+--------------------------+--------------------+\n",
            "\n",
            "\n",
            "Extremums for column \"selling_price\"\n",
            "Maximum 5 values\n",
            "+-------+-------+----------------------+\n",
            "| Value | Count |         Freq         |\n",
            "+-------+-------+----------------------+\n",
            "|  92.0 |   2   | 0.019377967251235348 |\n",
            "|  87.5 |   1   | 0.009688983625617674 |\n",
            "|  85.0 |   4   | 0.038755934502470696 |\n",
            "|  84.0 |   1   | 0.009688983625617674 |\n",
            "|  82.5 |   1   | 0.009688983625617674 |\n",
            "+-------+-------+----------------------+\n",
            "Minimum 5 values\n",
            "+-------+-------+----------------------+\n",
            "| Value | Count |         Freq         |\n",
            "+-------+-------+----------------------+\n",
            "|  5.0  |  209  |  2.0249975777540934  |\n",
            "|  5.01 |   2   | 0.019377967251235348 |\n",
            "|  5.02 |   1   | 0.009688983625617674 |\n",
            "|  5.04 |   2   | 0.019377967251235348 |\n",
            "|  5.05 |   6   | 0.05813390175370604  |\n",
            "+-------+-------+----------------------+\n",
            "\n",
            "\n",
            "Common values for column \"selling_price\"\n",
            "+-------+-------+--------------------+\n",
            "| Value | Count |     Frequency      |\n",
            "+-------+-------+--------------------+\n",
            "|  5.5  |  405  | 3.9240383683751574 |\n",
            "|  6.5  |  376  | 3.643057843232245  |\n",
            "|  6.0  |  300  | 2.9066950876853017 |\n",
            "|  7.5  |  272  | 2.635403546168007  |\n",
            "|  7.0  |  225  | 2.1800213157639763 |\n",
            "+-------+-------+--------------------+\n",
            "\n",
            "\n"
          ]
        },
        {
          "output_type": "execute_result",
          "data": {
            "text/plain": [
              "{'quantile_stats': {'min': 5.0,\n",
              "  '5%': 5.25,\n",
              "  'Q1': 6.1,\n",
              "  'median': 7.65,\n",
              "  'Q3': 11.35,\n",
              "  '95%': 30.0,\n",
              "  'max': 92.0,\n",
              "  'range': 87.0,\n",
              "  'IQR': 5.25},\n",
              " 'descriptive_stats': {'mean': 11.070784807673675,\n",
              "  'sum': 114261.57,\n",
              "  'var': 93.12171099254435,\n",
              "  'std': 9.649959118698087,\n",
              "  'CV': 0.8716598946092107,\n",
              "  'kurtosis': 15.64598356846234,\n",
              "  'MAD': 5.894012032758245,\n",
              "  'skewness': 3.513319830975561,\n",
              "  'mono': True},\n",
              " 'extremums': {'max_n': 92.0    2\n",
              "  87.5    1\n",
              "  85.0    4\n",
              "  84.0    1\n",
              "  82.5    1\n",
              "  Name: selling_price, dtype: int64, 'min_n': 5.00    209\n",
              "  5.01      2\n",
              "  5.02      1\n",
              "  5.04      2\n",
              "  5.05      6\n",
              "  Name: selling_price, dtype: int64},\n",
              " 'common_values':    value  count      freq\n",
              " 0    5.5    405  3.924038\n",
              " 1    6.5    376  3.643058\n",
              " 2    6.0    300  2.906695\n",
              " 3    7.5    272  2.635404\n",
              " 4    7.0    225  2.180021}"
            ]
          },
          "metadata": {},
          "execution_count": 8
        }
      ],
      "source": [
        "analyze_data(df, 'selling_price')"
      ]
    },
    {
      "cell_type": "code",
      "execution_count": 29,
      "metadata": {
        "colab": {
          "base_uri": "https://localhost:8080/",
          "height": 425
        },
        "id": "8j22kO5MfCuW",
        "outputId": "cb43647a-b1f4-4f89-f126-f99e99258a27"
      },
      "outputs": [
        {
          "output_type": "execute_result",
          "data": {
            "text/plain": [
              "Text(0, 0.5, 'Frequency')"
            ]
          },
          "metadata": {},
          "execution_count": 29
        },
        {
          "output_type": "display_data",
          "data": {
            "text/plain": [
              "<Figure size 1080x432 with 2 Axes>"
            ],
            "image/png": "[encoded data removed]"
          },
          "metadata": {
            "needs_background": "light"
          }
        }
      ],
      "source": [
        "# Histogram for the column 'selling_price'\n",
        "fig, hist = plt.subplots(1, 2, figsize=(15, 6))\n",
        "# Set the title for the histogram\n",
        "\n",
        "xlimleft = 4\n",
        "xlimright = 15\n",
        "bins = round( 50 * max(df['selling_price']) / xlim)\n",
        "\n",
        "\n",
        "hist_norm = sns.histplot(df['selling_price'], bins=100, color='salmon', edgecolor='black', linewidth=0.3, ax=hist[0])\n",
        "hist_norm.set_title('Histogram for the column \"selling_price\"')\n",
        "hist_norm.set_xlabel('Selling price in INR')\n",
        "hist_norm.set_ylabel('Frequency')\n",
        "\n",
        "hist_norm_xlim = sns.histplot(df['selling_price'], bins=bins, color='salmon', edgecolor='black', linewidth=0.6 ,ax=hist[1])\n",
        "hist_norm_xlim.set_xlim(xlimleft, xlimright)\n",
        "hist_norm_xlim.set_title('Selling price between 4 and 15 lakhs')\n",
        "hist_norm_xlim.set_xlabel('Selling price in INR')\n",
        "hist_norm_xlim.set_ylabel('Frequency')"
      ]
    },
    {
      "cell_type": "markdown",
      "metadata": {
        "id": "wL9Ib1qZfCuX"
      },
      "source": [
        "There is a **strong positive skewness** in the selling price. To better analyze the data we would be plotting the log transformation along with the square root transformation below."
      ]
    },
    {
      "cell_type": "code",
      "execution_count": 30,
      "metadata": {
        "colab": {
          "base_uri": "https://localhost:8080/",
          "height": 425
        },
        "id": "V_Xyr2tkfCuY",
        "outputId": "f33b38d6-aed1-44f4-b192-d2329a1e326c"
      },
      "outputs": [
        {
          "output_type": "execute_result",
          "data": {
            "text/plain": [
              "Text(0, 0.5, 'Frequency')"
            ]
          },
          "metadata": {},
          "execution_count": 30
        },
        {
          "output_type": "display_data",
          "data": {
            "text/plain": [
              "<Figure size 1080x432 with 2 Axes>"
            ],
            "image/png": "[encoded data removed]"
          },
          "metadata": {
            "needs_background": "light"
          }
        }
      ],
      "source": [
        "# Plot the histogram of the log and root transformation of the column 'selling_price'\n",
        "fig, hist = plt.subplots(1, 2, figsize=(15, 6))\n",
        "\n",
        "hist_log = sns.histplot(np.log(df['selling_price']), bins=60, color='salmon', edgecolor='black', linewidth=0.7, ax=hist[0])\n",
        "hist_log.set_title('Histogram: Log (\"selling_price\")')\n",
        "hist_log.set_xlabel('Log - Selling price in INR')\n",
        "hist_log.set_ylabel('Frequency')\n",
        "\n",
        "hist_root = sns.histplot(np.sqrt(df['selling_price']), bins=60, color='salmon', edgecolor='black', linewidth=0.7, ax=hist[1])\n",
        "hist_root.set_title('Histogram: Sqrt (\"selling_price_inr\")')\n",
        "hist_root.set_xlabel('Sqrt - Selling price in INR')\n",
        "hist_root.set_ylabel('Frequency')"
      ]
    },
    {
      "cell_type": "code",
      "execution_count": 31,
      "metadata": {
        "colab": {
          "base_uri": "https://localhost:8080/",
          "height": 425
        },
        "id": "PLBBozaTfCuZ",
        "outputId": "fa6eaac1-af31-4260-935a-173f168746c0"
      },
      "outputs": [
        {
          "output_type": "execute_result",
          "data": {
            "text/plain": [
              "Text(0, 0.5, 'Frequency')"
            ]
          },
          "metadata": {},
          "execution_count": 31
        },
        {
          "output_type": "display_data",
          "data": {
            "text/plain": [
              "<Figure size 1080x432 with 2 Axes>"
            ],
            "image/png": "[encoded data removed]"
          },
          "metadata": {
            "needs_background": "light"
          }
        }
      ],
      "source": [
        "# Box plot and violin plot for the log transformation of column 'selling_price_inr'\n",
        "fig, ran = plt.subplots(1, 2, figsize=(15, 6))\n",
        "\n",
        "box = sns.boxplot(data=np.log(df['selling_price']), ax=ran[0])\n",
        "box.set_title('Box plot: \"selling_price_inr\"')\n",
        "box.set_xlabel('Selling price in INR')\n",
        "box.set_ylabel('Frequency')\n",
        "\n",
        "violin = sns.violinplot(data=np.log(df['selling_price']), ax=ran[1])\n",
        "violin.set_title('Violin plot: \"selling_price_inr\"')\n",
        "violin.set_xlabel('Selling price in INR')\n",
        "violin.set_ylabel('Frequency')"
      ]
    },
    {
      "cell_type": "markdown",
      "metadata": {
        "id": "9WhnsGEUfCuZ"
      },
      "source": [
        "#### Distance driven: `km_driven`"
      ]
    },
    {
      "cell_type": "markdown",
      "metadata": {
        "id": "tWQi55BafCuZ"
      },
      "source": [
        "Summary: \n",
        "- The mean distance driven is around 53,280 km or 33,100 miles\n",
        "- The median is around 47,900 km or 29,760 miles\n",
        "- The CV is very large, 106%\n",
        "- The kurtosis of 1868 suggests that outlier values are present and influence the data.\n",
        "- Skewness is 30, i.e. the data is highly skewed (positive skewness)."
      ]
    },
    {
      "cell_type": "code",
      "execution_count": 32,
      "metadata": {
        "colab": {
          "base_uri": "https://localhost:8080/"
        },
        "id": "eD8K58w8fCua",
        "outputId": "4a9109b4-e8d6-4d7a-9ff1-3874673bb61c"
      },
      "outputs": [
        {
          "output_type": "stream",
          "name": "stdout",
          "text": [
            "\tAnalyzing: Column \"km_driven\" is numeric\n",
            "\n",
            "Overview of column \"km_driven\"\n",
            "+----------------+--------------------+\n",
            "|    Measure     |       Value        |\n",
            "+----------------+--------------------+\n",
            "| Distinct Count |        2480        |\n",
            "|   Distinct %   | 24.028679391531828 |\n",
            "| Missing Count  |         0          |\n",
            "|   Missing %    |        0.0         |\n",
            "|      Mean      | 53280.97878112586  |\n",
            "|    Minimum     |        581         |\n",
            "|    Maximum     |      3800000       |\n",
            "+----------------+--------------------+\n",
            "\n",
            "\n",
            "Quantile stats for column \"km_driven\"\n",
            "+---------------------+----------+\n",
            "|      Statistic      |  Value   |\n",
            "+---------------------+----------+\n",
            "|       Minimum       |   581    |\n",
            "|    5th Percentile   |  9000.0  |\n",
            "|  First Quartile, Q1 | 26000.0  |\n",
            "|        Median       | 47900.0  |\n",
            "|  Third Quartile, Q3 | 70000.0  |\n",
            "|   95th Percentile   | 120000.0 |\n",
            "|       Maximum       | 3800000  |\n",
            "|        Range        | 3799419  |\n",
            "| Interquartile Range | 44000.0  |\n",
            "+---------------------+----------+\n",
            "\n",
            "\n",
            "Descriptive stats for column \"km_driven\"\n",
            "+--------------------------+--------------------+\n",
            "|        Statistic         |       Value        |\n",
            "+--------------------------+--------------------+\n",
            "|           Mean           | 53280.97878112586  |\n",
            "|           Sum            |     549912982      |\n",
            "|         Variance         | 3236020623.2480955 |\n",
            "|    Standard deviation    | 56886.03188172027  |\n",
            "| Coefficient of variation | 1.0676611650736314 |\n",
            "|         Kurtosis         | 1868.9165350140556 |\n",
            "| Mean absolute deviation  | 27826.921436180182 |\n",
            "|         Skewness         | 30.857781854942605 |\n",
            "|        Monotonous        |       False        |\n",
            "+--------------------------+--------------------+\n",
            "\n",
            "\n",
            "Extremums for column \"km_driven\"\n",
            "Maximum 5 values\n",
            "+---------+-------+----------------------+\n",
            "|  Value  | Count |         Freq         |\n",
            "+---------+-------+----------------------+\n",
            "| 3800000 |   1   | 0.009688983625617674 |\n",
            "| 1325000 |   1   | 0.009688983625617674 |\n",
            "|  950000 |   1   | 0.009688983625617674 |\n",
            "|  850000 |   1   | 0.009688983625617674 |\n",
            "|  825000 |   1   | 0.009688983625617674 |\n",
            "+---------+-------+----------------------+\n",
            "Minimum 5 values\n",
            "+-------+-------+----------------------+\n",
            "| Value | Count |         Freq         |\n",
            "+-------+-------+----------------------+\n",
            "|  581  |   1   | 0.009688983625617674 |\n",
            "|  1000 |   9   | 0.08720085263055906  |\n",
            "|  1001 |   3   | 0.02906695087685302  |\n",
            "|  1005 |   1   | 0.009688983625617674 |\n",
            "|  1041 |   1   | 0.009688983625617674 |\n",
            "+-------+-------+----------------------+\n",
            "\n",
            "\n",
            "Common values for column \"km_driven\"\n",
            "+-------+-------+--------------------+\n",
            "| Value | Count |     Frequency      |\n",
            "+-------+-------+--------------------+\n",
            "| 50000 |  362  | 3.5074120724735973 |\n",
            "| 40000 |  319  | 3.0907857765720377 |\n",
            "| 70000 |  276  | 2.6741594806704776 |\n",
            "| 60000 |  260  | 2.5191357426605947 |\n",
            "| 30000 |  239  | 2.3156670865226237 |\n",
            "+-------+-------+--------------------+\n",
            "\n",
            "\n"
          ]
        }
      ],
      "source": [
        "data_km_driven = analyze_data(df, 'km_driven', n=5)"
      ]
    },
    {
      "cell_type": "code",
      "execution_count": 31,
      "metadata": {
        "colab": {
          "base_uri": "https://localhost:8080/",
          "height": 426
        },
        "id": "VSQrHpxWfCua",
        "outputId": "0f326e72-f5e8-4744-f7b8-95890d00903c"
      },
      "outputs": [
        {
          "output_type": "execute_result",
          "data": {
            "text/plain": [
              "Text(0, 0.5, 'Frequency')"
            ]
          },
          "metadata": {},
          "execution_count": 31
        },
        {
          "output_type": "display_data",
          "data": {
            "text/plain": [
              "<Figure size 1080x432 with 2 Axes>"
            ],
            "image/png": "[encoded data removed]"
          },
          "metadata": {
            "needs_background": "light"
          }
        }
      ],
      "source": [
        "# Plot the histogram of the column 'km_driven'\n",
        "fig, hist = plt.subplots(1, 2, figsize=(15, 6))\n",
        "xlim = 3e5\n",
        "bins = round( 50 * max(df['km_driven']) / xlim)\n",
        "\n",
        "hist_norm = sns.histplot(df['km_driven'], bins=50, color='salmon', edgecolor='black', linewidth=0.3, ax=hist[0])\n",
        "hist_norm.set_title('Histogram: km_driven')\n",
        "hist_norm.set_xlabel('Km driven')\n",
        "hist_norm.set_ylabel('Frequency')\n",
        "\n",
        "hist_norm_xlim = sns.histplot(df['km_driven'], bins=bins, color='salmon', edgecolor='black', linewidth=0.6 ,ax=hist[1])\n",
        "hist_norm_xlim.set_xlim([0, xlim])\n",
        "hist_norm_xlim.set_title('Histogram: km_driven $x \\in $(0 - 3,00,000)')\n",
        "hist_norm_xlim.set_xlabel('Km driven')\n",
        "hist_norm_xlim.set_ylabel('Frequency')"
      ]
    },
    {
      "cell_type": "markdown",
      "metadata": {
        "id": "7yRxR_SnfCub"
      },
      "source": [
        "Since it is highly skewed, we would be plotting the log and sqrt transformation of the distance driven."
      ]
    },
    {
      "cell_type": "code",
      "execution_count": 34,
      "metadata": {
        "colab": {
          "base_uri": "https://localhost:8080/",
          "height": 425
        },
        "id": "ZTs4OqwAfCub",
        "outputId": "3d22c78d-abe9-4dc9-b2af-c0e0311c26a4"
      },
      "outputs": [
        {
          "output_type": "execute_result",
          "data": {
            "text/plain": [
              "Text(0, 0.5, 'Frequency')"
            ]
          },
          "metadata": {},
          "execution_count": 34
        },
        {
          "output_type": "display_data",
          "data": {
            "text/plain": [
              "<Figure size 1080x432 with 2 Axes>"
            ],
            "image/png": "[encoded data removed]"
          },
          "metadata": {
            "needs_background": "light"
          }
        }
      ],
      "source": [
        "# Plot the histogram of the log and root transformation of the column 'km_driven'\n",
        "fig, hist = plt.subplots(1, 2, figsize=(15, 6))\n",
        "\n",
        "hist_log = sns.histplot(np.log(df['km_driven']), bins=50, color='salmon', edgecolor='black', linewidth=0.7, ax=hist[0])\n",
        "hist_log.set_title('Histogram: Log (\"km_driven\")')\n",
        "hist_log.set_xlabel('Log - Km driven')\n",
        "hist_log.set_ylabel('Frequency')\n",
        "\n",
        "hist_root = sns.histplot(np.sqrt(df['km_driven']), bins=50, color='salmon', edgecolor='black', linewidth=0.7, ax=hist[1])\n",
        "hist_root.set_title('Histogram: Box-Cox (\"km_driven\")')\n",
        "hist_root.set_xlabel('Sqrt - Km driven')\n",
        "hist_root.set_ylabel('Frequency')"
      ]
    },
    {
      "cell_type": "code",
      "execution_count": 35,
      "metadata": {
        "colab": {
          "base_uri": "https://localhost:8080/",
          "height": 392
        },
        "id": "juEkKcxufCuc",
        "outputId": "d1abffd9-9a08-41e3-90f6-975aff354e8f"
      },
      "outputs": [
        {
          "output_type": "execute_result",
          "data": {
            "text/plain": [
              "Text(0.5, 1.0, 'Box plot: Sqrt (\"km_driven\")')"
            ]
          },
          "metadata": {},
          "execution_count": 35
        },
        {
          "output_type": "display_data",
          "data": {
            "text/plain": [
              "<Figure size 1728x432 with 3 Axes>"
            ],
            "image/png": "[encoded data removed]"
          },
          "metadata": {
            "needs_background": "light"
          }
        }
      ],
      "source": [
        "# Let's use a box plot to visualize the distribution of the column 'km_driven'\n",
        "fig, box = plt.subplots(1, 3, figsize=(24, 6))\n",
        "for box_plot in box:\n",
        "\tbox_plot.set_xlabel('Km driven')\n",
        "\tbox_plot.set_ylabel('Frequency')\n",
        "\n",
        "box_original = sns.boxplot(data=df['km_driven'], ax=box[0], color='red')\n",
        "box_original.set_title('Box plot: \"km_driven\"')\n",
        "\n",
        "box_log = sns.boxplot(data=np.log(df['km_driven']), ax=box[1], color='#326EAD')\n",
        "box_log.set_title('Box plot: Log (\"km_driven\")')\n",
        "\n",
        "box_root = sns.boxplot(data=np.sqrt(df['km_driven']), ax=box[2], color='#ff7f00')\n",
        "box_root.set_title('Box plot: Sqrt (\"km_driven\")')"
      ]
    },
    {
      "cell_type": "markdown",
      "metadata": {
        "id": "NTHyMk_8fCuc"
      },
      "source": [
        "As is apparent from the above plots, there are outliers present in the data which need to be treated in the **Feature Engineering** section."
      ]
    },
    {
      "cell_type": "markdown",
      "metadata": {
        "id": "vip75GZTfCuc"
      },
      "source": [
        "#### Engine Size: `engine`"
      ]
    },
    {
      "cell_type": "markdown",
      "metadata": {
        "id": "JU8_F_MsfCud"
      },
      "source": [
        "Summary: \n",
        "- There are only 127 distinct values \n",
        "- The mean engine size is 1685 cc\n",
        "- The median is 1498 cc\n",
        "- The CV is acceptable, 32%\n",
        "- The kurtosis of 2.96\n",
        "- Skewness 1.40, meaning the data is not very skewed"
      ]
    },
    {
      "cell_type": "code",
      "execution_count": 36,
      "metadata": {
        "colab": {
          "base_uri": "https://localhost:8080/"
        },
        "id": "bof6yQwtfCud",
        "outputId": "53c64a76-38e7-49f2-9178-da133f172e7c"
      },
      "outputs": [
        {
          "output_type": "stream",
          "name": "stdout",
          "text": [
            "\tAnalyzing: Column \"engine\" is numeric\n",
            "\n",
            "Overview of column \"engine\"\n",
            "+----------------+--------------------+\n",
            "|    Measure     |       Value        |\n",
            "+----------------+--------------------+\n",
            "| Distinct Count |        127         |\n",
            "|   Distinct %   | 1.2305009204534443 |\n",
            "| Missing Count  |         0          |\n",
            "|   Missing %    |        0.0         |\n",
            "|      Mean      | 1685.5550818719116 |\n",
            "|    Minimum     |        0.0         |\n",
            "|    Maximum     |       5998.0       |\n",
            "+----------------+--------------------+\n",
            "\n",
            "\n",
            "Quantile stats for column \"engine\"\n",
            "+---------------------+--------+\n",
            "|      Statistic      | Value  |\n",
            "+---------------------+--------+\n",
            "|       Minimum       |  0.0   |\n",
            "|    5th Percentile   | 1197.0 |\n",
            "|  First Quartile, Q1 | 1248.0 |\n",
            "|        Median       | 1498.0 |\n",
            "|  Third Quartile, Q3 | 1995.0 |\n",
            "|   95th Percentile   | 2953.0 |\n",
            "|       Maximum       | 5998.0 |\n",
            "|        Range        | 5998.0 |\n",
            "| Interquartile Range | 747.0  |\n",
            "+---------------------+--------+\n",
            "\n",
            "\n",
            "Descriptive stats for column \"engine\"\n",
            "+--------------------------+---------------------+\n",
            "|        Statistic         |        Value        |\n",
            "+--------------------------+---------------------+\n",
            "|           Mean           |  1685.5550818719116 |\n",
            "|           Sum            |      17396614.0     |\n",
            "|         Variance         |  298690.21462557715 |\n",
            "|    Standard deviation    |  546.5255846029326  |\n",
            "| Coefficient of variation | 0.32424071481305883 |\n",
            "|         Kurtosis         |  2.9618460941925506 |\n",
            "| Mean absolute deviation  |  444.6598685818592  |\n",
            "|         Skewness         |  1.4027378714671863 |\n",
            "|        Monotonous        |        False        |\n",
            "+--------------------------+---------------------+\n",
            "\n",
            "\n",
            "Extremums for column \"engine\"\n",
            "Maximum 5 values\n",
            "+--------+-------+----------------------+\n",
            "| Value  | Count |         Freq         |\n",
            "+--------+-------+----------------------+\n",
            "| 5998.0 |   2   | 0.019377967251235348 |\n",
            "| 5461.0 |   4   | 0.038755934502470696 |\n",
            "| 4999.0 |   1   | 0.009688983625617674 |\n",
            "| 4951.0 |   4   | 0.038755934502470696 |\n",
            "| 4806.0 |   3   | 0.02906695087685302  |\n",
            "+--------+-------+----------------------+\n",
            "Minimum 5 values\n",
            "+-------+-------+----------------------+\n",
            "| Value | Count |         Freq         |\n",
            "+-------+-------+----------------------+\n",
            "|  0.0  |   2   | 0.019377967251235348 |\n",
            "|  72.0 |   3   | 0.02906695087685302  |\n",
            "| 909.0 |   4   | 0.038755934502470696 |\n",
            "| 998.0 |   85  |  0.8235636081775022  |\n",
            "| 999.0 |   46  | 0.44569324677841293  |\n",
            "+-------+-------+----------------------+\n",
            "\n",
            "\n",
            "Common values for column \"engine\"\n",
            "+--------+-------+--------------------+\n",
            "| Value  | Count |     Frequency      |\n",
            "+--------+-------+--------------------+\n",
            "| 1197.0 |  1366 | 13.235151632593741 |\n",
            "| 1248.0 |  1280 | 12.40189904079062  |\n",
            "| 1498.0 |  900  | 8.720085263055905  |\n",
            "| 2179.0 |  577  | 5.590543551981397  |\n",
            "| 1497.0 |  501  | 4.854180796434454  |\n",
            "+--------+-------+--------------------+\n",
            "\n",
            "\n"
          ]
        },
        {
          "output_type": "execute_result",
          "data": {
            "text/plain": [
              "{'quantile_stats': {'min': 0.0,\n",
              "  '5%': 1197.0,\n",
              "  'Q1': 1248.0,\n",
              "  'median': 1498.0,\n",
              "  'Q3': 1995.0,\n",
              "  '95%': 2953.0,\n",
              "  'max': 5998.0,\n",
              "  'range': 5998.0,\n",
              "  'IQR': 747.0},\n",
              " 'descriptive_stats': {'mean': 1685.5550818719116,\n",
              "  'sum': 17396614.0,\n",
              "  'var': 298690.21462557715,\n",
              "  'std': 546.5255846029326,\n",
              "  'CV': 0.32424071481305883,\n",
              "  'kurtosis': 2.9618460941925506,\n",
              "  'MAD': 444.6598685818592,\n",
              "  'skewness': 1.4027378714671863,\n",
              "  'mono': False},\n",
              " 'extremums': {'max_n': 5998.0    2\n",
              "  5461.0    4\n",
              "  4999.0    1\n",
              "  4951.0    4\n",
              "  4806.0    3\n",
              "  Name: engine, dtype: int64, 'min_n': 0.0       2\n",
              "  72.0      3\n",
              "  909.0     4\n",
              "  998.0    85\n",
              "  999.0    46\n",
              "  Name: engine, dtype: int64},\n",
              " 'common_values':     value  count       freq\n",
              " 0  1197.0   1366  13.235152\n",
              " 1  1248.0   1280  12.401899\n",
              " 2  1498.0    900   8.720085\n",
              " 3  2179.0    577   5.590544\n",
              " 4  1497.0    501   4.854181}"
            ]
          },
          "metadata": {},
          "execution_count": 36
        }
      ],
      "source": [
        "analyze_data(df, 'engine', n=5)"
      ]
    },
    {
      "cell_type": "code",
      "execution_count": 37,
      "metadata": {
        "colab": {
          "base_uri": "https://localhost:8080/",
          "height": 425
        },
        "id": "6sy5mXdpfCud",
        "outputId": "3f6ade04-0dbd-4932-8f2f-4da91df9c8eb"
      },
      "outputs": [
        {
          "output_type": "execute_result",
          "data": {
            "text/plain": [
              "Text(0, 0.5, 'Frequency')"
            ]
          },
          "metadata": {},
          "execution_count": 37
        },
        {
          "output_type": "display_data",
          "data": {
            "text/plain": [
              "<Figure size 720x432 with 1 Axes>"
            ],
            "image/png": "[encoded data removed]"
          },
          "metadata": {
            "needs_background": "light"
          }
        }
      ],
      "source": [
        "# Plot the histogram of the column 'engine_cc'\n",
        "fig, hist = plt.subplots(1, 1, figsize=(10, 6))\n",
        "\n",
        "hist_or = sns.histplot(df['engine'], bins=50, color='salmon', edgecolor='black', linewidth=0.8, ax=hist)\n",
        "hist_or.set_title('Histogram: engine(in cc)')\n",
        "hist_or.set_xlabel('Engine cc')\n",
        "hist_or.set_ylabel('Frequency')"
      ]
    },
    {
      "cell_type": "code",
      "execution_count": 38,
      "metadata": {
        "colab": {
          "base_uri": "https://localhost:8080/",
          "height": 425
        },
        "id": "dyALv_rmfCud",
        "outputId": "a7f0c149-6fe8-497e-bb6f-85f16c143fe6"
      },
      "outputs": [
        {
          "output_type": "execute_result",
          "data": {
            "text/plain": [
              "Text(0, 0.5, 'Frequency')"
            ]
          },
          "metadata": {},
          "execution_count": 38
        },
        {
          "output_type": "display_data",
          "data": {
            "text/plain": [
              "<Figure size 1080x432 with 2 Axes>"
            ],
            "image/png": "[encoded data removed]"
          },
          "metadata": {
            "needs_background": "light"
          }
        }
      ],
      "source": [
        "# Box plot and violin plot for the column 'engine_cc'\n",
        "fig, ran = plt.subplots(1, 2, figsize=(15, 6))\n",
        "\n",
        "box = sns.boxplot(data=df['engine'], ax=ran[0])\n",
        "box.set_title('Box plot: \"engine(in cc)\"')\n",
        "box.set_xlabel('Engine cc')\n",
        "box.set_ylabel('Frequency')\n",
        "\n",
        "violin = sns.violinplot(data=df['engine'], ax=ran[1])\n",
        "violin.set_title('Violin plot: \"engine(in cc)\"')\n",
        "violin.set_xlabel('Engine cc')\n",
        "violin.set_ylabel('Frequency')"
      ]
    },
    {
      "cell_type": "markdown",
      "metadata": {
        "id": "Z5kklV-GfCue"
      },
      "source": [
        "- Due to their being so few distinct values, we can categorize the engine size into ordinal groups later in the **Feature Engineering** section to see its impact on the model prediction.\n",
        "- The presence of outliers is clearly visible in the above plots."
      ]
    },
    {
      "cell_type": "markdown",
      "metadata": {
        "id": "60o8uvmcfCue"
      },
      "source": [
        "#### Horsepower: `max_power`"
      ]
    },
    {
      "cell_type": "markdown",
      "metadata": {
        "id": "Fhk0v93FfCuf"
      },
      "source": [
        "Summary: \n",
        "- There are 387 distinct values (which is large but certainly not continuous considering the dataset size)\n",
        "- The mean power is 118 bhp\n",
        "- The median is 102 bhp \n",
        "- The CV is high, 40%\n",
        "- The kurtosis is 7.3 indicating the presence of fatter tails\n",
        "- Skewness 2.06 indicates postively skewed data"
      ]
    },
    {
      "cell_type": "code",
      "execution_count": 39,
      "metadata": {
        "colab": {
          "base_uri": "https://localhost:8080/"
        },
        "id": "hnj597kNfCuf",
        "outputId": "e2b62aba-2585-4e2f-8d4d-0d03ff2b2f74"
      },
      "outputs": [
        {
          "output_type": "stream",
          "name": "stdout",
          "text": [
            "\tAnalyzing: Column \"max_power\" is numeric\n",
            "\n",
            "Overview of column \"max_power\"\n",
            "+----------------+--------------------+\n",
            "|    Measure     |       Value        |\n",
            "+----------------+--------------------+\n",
            "| Distinct Count |        387         |\n",
            "|   Distinct %   | 3.7496366631140394 |\n",
            "| Missing Count  |         0          |\n",
            "|   Missing %    |        0.0         |\n",
            "|      Mean      | 118.53692423214804 |\n",
            "|    Minimum     |       41.57        |\n",
            "|    Maximum     |       600.0        |\n",
            "+----------------+--------------------+\n",
            "\n",
            "\n",
            "Quantile stats for column \"max_power\"\n",
            "+---------------------+--------+\n",
            "|      Statistic      | Value  |\n",
            "+---------------------+--------+\n",
            "|       Minimum       | 41.57  |\n",
            "|    5th Percentile   |  74.0  |\n",
            "|  First Quartile, Q1 |  86.7  |\n",
            "|        Median       | 102.0  |\n",
            "|  Third Quartile, Q3 | 140.0  |\n",
            "|   95th Percentile   | 201.15 |\n",
            "|       Maximum       | 600.0  |\n",
            "|        Range        | 558.43 |\n",
            "| Interquartile Range |  53.3  |\n",
            "+---------------------+--------+\n",
            "\n",
            "\n",
            "Descriptive stats for column \"max_power\"\n",
            "+--------------------------+--------------------+\n",
            "|        Statistic         |       Value        |\n",
            "+--------------------------+--------------------+\n",
            "|           Mean           | 118.53692423214804 |\n",
            "|           Sum            |    1223419.595     |\n",
            "|         Variance         | 2279.8506433657703 |\n",
            "|    Standard deviation    | 47.74778155439026  |\n",
            "| Coefficient of variation | 0.4028093512944444 |\n",
            "|         Kurtosis         | 7.398626837037089  |\n",
            "| Mean absolute deviation  | 35.604371268841255 |\n",
            "|         Skewness         | 2.061479869882212  |\n",
            "|        Monotonous        |       False        |\n",
            "+--------------------------+--------------------+\n",
            "\n",
            "\n",
            "Extremums for column \"max_power\"\n",
            "Maximum 5 values\n",
            "+-------+-------+----------------------+\n",
            "| Value | Count |         Freq         |\n",
            "+-------+-------+----------------------+\n",
            "| 600.0 |   1   | 0.009688983625617674 |\n",
            "| 575.0 |   1   | 0.009688983625617674 |\n",
            "| 552.0 |   1   | 0.009688983625617674 |\n",
            "| 507.0 |   1   | 0.009688983625617674 |\n",
            "| 500.0 |   1   | 0.009688983625617674 |\n",
            "+-------+-------+----------------------+\n",
            "Minimum 5 values\n",
            "+-------+-------+----------------------+\n",
            "| Value | Count |         Freq         |\n",
            "+-------+-------+----------------------+\n",
            "| 41.57 |   3   | 0.02906695087685302  |\n",
            "|  45.0 |   4   | 0.038755934502470696 |\n",
            "|  58.0 |   4   | 0.038755934502470696 |\n",
            "| 58.16 |   2   | 0.019377967251235348 |\n",
            "| 58.33 |   2   | 0.019377967251235348 |\n",
            "+-------+-------+----------------------+\n",
            "\n",
            "\n",
            "Common values for column \"max_power\"\n",
            "+-------+-------+--------------------+\n",
            "| Value | Count |     Frequency      |\n",
            "+-------+-------+--------------------+\n",
            "|  88.5 |  654  | 6.336595291153958  |\n",
            "|  74.0 |  423  | 4.098440073636276  |\n",
            "|  81.8 |  402  | 3.8949714174983043 |\n",
            "|  98.6 |  331  | 3.2070535800794495 |\n",
            "| 140.0 |  315  | 3.052029842069567  |\n",
            "+-------+-------+--------------------+\n",
            "\n",
            "\n"
          ]
        },
        {
          "output_type": "execute_result",
          "data": {
            "text/plain": [
              "{'quantile_stats': {'min': 41.57,\n",
              "  '5%': 74.0,\n",
              "  'Q1': 86.7,\n",
              "  'median': 102.0,\n",
              "  'Q3': 140.0,\n",
              "  '95%': 201.15,\n",
              "  'max': 600.0,\n",
              "  'range': 558.43,\n",
              "  'IQR': 53.3},\n",
              " 'descriptive_stats': {'mean': 118.53692423214804,\n",
              "  'sum': 1223419.595,\n",
              "  'var': 2279.8506433657703,\n",
              "  'std': 47.74778155439026,\n",
              "  'CV': 0.4028093512944444,\n",
              "  'kurtosis': 7.398626837037089,\n",
              "  'MAD': 35.604371268841255,\n",
              "  'skewness': 2.061479869882212,\n",
              "  'mono': False},\n",
              " 'extremums': {'max_n': 600.0    1\n",
              "  575.0    1\n",
              "  552.0    1\n",
              "  507.0    1\n",
              "  500.0    1\n",
              "  Name: max_power, dtype: int64, 'min_n': 41.57    3\n",
              "  45.00    4\n",
              "  58.00    4\n",
              "  58.16    2\n",
              "  58.33    2\n",
              "  Name: max_power, dtype: int64},\n",
              " 'common_values':    value  count      freq\n",
              " 0   88.5    654  6.336595\n",
              " 1   74.0    423  4.098440\n",
              " 2   81.8    402  3.894971\n",
              " 3   98.6    331  3.207054\n",
              " 4  140.0    315  3.052030}"
            ]
          },
          "metadata": {},
          "execution_count": 39
        }
      ],
      "source": [
        "analyze_data(df, 'max_power', n=5)"
      ]
    },
    {
      "cell_type": "code",
      "execution_count": 40,
      "metadata": {
        "colab": {
          "base_uri": "https://localhost:8080/",
          "height": 425
        },
        "id": "cpcUqH9efCuf",
        "outputId": "23e301f2-011d-4067-d928-98c3a4ef27d1"
      },
      "outputs": [
        {
          "output_type": "execute_result",
          "data": {
            "text/plain": [
              "Text(0, 0.5, 'Frequency')"
            ]
          },
          "metadata": {},
          "execution_count": 40
        },
        {
          "output_type": "display_data",
          "data": {
            "text/plain": [
              "<Figure size 720x432 with 1 Axes>"
            ],
            "image/png": "[encoded data removed]"
          },
          "metadata": {
            "needs_background": "light"
          }
        }
      ],
      "source": [
        "# Plot the histogram of the column 'max_power_bhp'\n",
        "fig, hist = plt.subplots(1, 1, figsize=(10, 6))\n",
        "\n",
        "hist_or = sns.histplot(df['max_power'], bins=50, color='salmon', edgecolor='black', linewidth=0.8, ax=hist)\n",
        "hist_or.set_title('Histogram: max_power(in bhp)')\n",
        "hist_or.set_xlabel('Max power in bhp')\n",
        "hist_or.set_ylabel('Frequency')"
      ]
    },
    {
      "cell_type": "code",
      "execution_count": 41,
      "metadata": {
        "colab": {
          "base_uri": "https://localhost:8080/",
          "height": 425
        },
        "id": "ycOijBmNfCug",
        "outputId": "a70622f0-3a2b-4b67-98fb-920b3079905b"
      },
      "outputs": [
        {
          "output_type": "execute_result",
          "data": {
            "text/plain": [
              "Text(0, 0.5, 'Frequency')"
            ]
          },
          "metadata": {},
          "execution_count": 41
        },
        {
          "output_type": "display_data",
          "data": {
            "text/plain": [
              "<Figure size 1080x432 with 2 Axes>"
            ],
            "image/png": "[encoded data removed]"
          },
          "metadata": {
            "needs_background": "light"
          }
        }
      ],
      "source": [
        "# Plot the box plot and violin plot for the column 'max_power_bhp'\n",
        "fig, ran = plt.subplots(1, 2, figsize=(15, 6))\n",
        "\n",
        "box = sns.boxplot(data=df['max_power'], ax=ran[0])\n",
        "box.set_title('Box plot: \"max_power(in bhp)\"')\n",
        "box.set_xlabel('Max power in bhp')\n",
        "box.set_ylabel('Frequency')\n",
        "\n",
        "violin = sns.violinplot(data=df['max_power'], ax=ran[1])\n",
        "violin.set_title('Violin plot: \"max_power(in bhp)\"')\n",
        "violin.set_xlabel('Max power in bhp')\n",
        "violin.set_ylabel('Frequency')"
      ]
    },
    {
      "cell_type": "markdown",
      "metadata": {
        "id": "ZW5tRg3YfCug"
      },
      "source": [
        "We see some similar patterns in the above plots as we saw in the `engine_cc` plots. The presence of outliers seem to be affecting the mean and spread of the data."
      ]
    },
    {
      "cell_type": "markdown",
      "metadata": {
        "id": "i5C_oWtnfCug"
      },
      "source": [
        "### 2.2.2 Categorical Features"
      ]
    },
    {
      "cell_type": "markdown",
      "metadata": {
        "id": "_Y_Dn7sqfCum"
      },
      "source": [
        "#### Name: `name`"
      ]
    },
    {
      "cell_type": "markdown",
      "metadata": {
        "id": "RYQYHR9VfCum"
      },
      "source": [
        "Summary: \n",
        "- There are 2126 distinct values (15%) <span style=\"color: #FF5555;\">(very high cardinality)</span>"
      ]
    },
    {
      "cell_type": "code",
      "execution_count": 42,
      "metadata": {
        "colab": {
          "base_uri": "https://localhost:8080/"
        },
        "id": "3X7_A6bOfCum",
        "outputId": "4465f1db-0105-4ba6-df62-27e2ce20e44c"
      },
      "outputs": [
        {
          "output_type": "stream",
          "name": "stdout",
          "text": [
            "Column \"full_name\" is categorical\n",
            "Overview of column \"full_name\"\n",
            "+----------------+--------------------+\n",
            "|    Measure     |       Value        |\n",
            "+----------------+--------------------+\n",
            "| Distinct Count |        2126        |\n",
            "|   Distinct %   | 20.598779188063173 |\n",
            "| Missing Count  |         0          |\n",
            "|   Missing %    |        0.0         |\n",
            "+----------------+--------------------+\n",
            "\n",
            "\n",
            "Common values for column \"full_name\"\n",
            "+-------------------------------+-------+---------------------+\n",
            "|             Value             | Count |      Frequency      |\n",
            "+-------------------------------+-------+---------------------+\n",
            "|     Maruti Swift Dzire VDI    |  141  |  1.3661466912120919 |\n",
            "|     Mahindra XUV500 W8 2WD    |   63  |  0.6104059684139134 |\n",
            "| Maruti Vitara Brezza ZDi Plus |   57  |  0.5522720666602073 |\n",
            "|    Maruti Vitara Brezza ZDi   |   51  |  0.4941381649065013 |\n",
            "|    Maruti Baleno Delta 1.2    |   50  | 0.48444918128088366 |\n",
            "+-------------------------------+-------+---------------------+\n",
            "\n",
            "\n"
          ]
        }
      ],
      "source": [
        "data_name = analyze_data(df, 'full_name')"
      ]
    },
    {
      "cell_type": "markdown",
      "metadata": {
        "id": "ZZuvIEzxfCun"
      },
      "source": [
        "#### Fuel: `fuel_type`"
      ]
    },
    {
      "cell_type": "markdown",
      "metadata": {
        "id": "98ZjWefYfCun"
      },
      "source": [
        "Summary: \n",
        "- 4 distinct values\n",
        "- *Diesel* and *Pertrol* make up for 99.2% of the data"
      ]
    },
    {
      "cell_type": "code",
      "execution_count": 43,
      "metadata": {
        "colab": {
          "base_uri": "https://localhost:8080/"
        },
        "id": "Rwq_3Px1fCun",
        "outputId": "fd46d816-3932-47db-80f6-b3f368ab66f0"
      },
      "outputs": [
        {
          "output_type": "stream",
          "name": "stdout",
          "text": [
            "Column \"fuel_type\" is categorical\n",
            "Overview of column \"fuel_type\"\n",
            "+----------------+----------------------+\n",
            "|    Measure     |        Value         |\n",
            "+----------------+----------------------+\n",
            "| Distinct Count |          4           |\n",
            "|   Distinct %   | 0.038755934502470696 |\n",
            "| Missing Count  |          0           |\n",
            "|   Missing %    |         0.0          |\n",
            "+----------------+----------------------+\n",
            "\n",
            "\n",
            "Common values for column \"fuel_type\"\n",
            "+----------+-------+---------------------+\n",
            "|  Value   | Count |      Frequency      |\n",
            "+----------+-------+---------------------+\n",
            "|  Diesel  |  6581 |  63.76320124018991  |\n",
            "|  Petrol  |  3667 |    35.52950295514   |\n",
            "|   CNG    |   64  |  0.620094952039531  |\n",
            "| Electric |   9   | 0.08720085263055906 |\n",
            "+----------+-------+---------------------+\n",
            "\n",
            "\n"
          ]
        }
      ],
      "source": [
        "data_fuel = analyze_data(df, 'fuel_type')"
      ]
    },
    {
      "cell_type": "code",
      "execution_count": 44,
      "metadata": {
        "colab": {
          "base_uri": "https://localhost:8080/",
          "height": 425
        },
        "id": "B6Qs0D4AfCun",
        "outputId": "0ed13f4e-5f16-4c87-f260-e86041ce478d"
      },
      "outputs": [
        {
          "output_type": "execute_result",
          "data": {
            "text/plain": [
              "Text(0, 0.5, 'Frequency')"
            ]
          },
          "metadata": {},
          "execution_count": 44
        },
        {
          "output_type": "display_data",
          "data": {
            "text/plain": [
              "<Figure size 720x432 with 1 Axes>"
            ],
            "image/png": "[encoded data removed]"
          },
          "metadata": {
            "needs_background": "light"
          }
        }
      ],
      "source": [
        "# Plot the bar plot for the column 'fuel_type'\n",
        "fig, bar = plt.subplots(1, 1, figsize=(10, 6))\n",
        "\n",
        "bar = sns.countplot(x=df['fuel_type'], edgecolor='#000', linewidth= 1)\n",
        "bar.set_title('Bar Plot: fuel_type')\n",
        "bar.set_xlabel('Fuel Type')\n",
        "bar.set_ylabel('Frequency')"
      ]
    },
    {
      "cell_type": "markdown",
      "metadata": {
        "id": "cDyn5wmOfCun"
      },
      "source": [
        "#### Seller Type: `seller_type`"
      ]
    },
    {
      "cell_type": "markdown",
      "metadata": {
        "id": "GUa3IDsFfCuo"
      },
      "source": [
        "Summary: \n",
        "- There are only 3 distinct values\n",
        "- ~66% \"Dealers\", ~33% \"Individual\" and ~1% \"Trustmark Dealer\""
      ]
    },
    {
      "cell_type": "code",
      "execution_count": 45,
      "metadata": {
        "colab": {
          "base_uri": "https://localhost:8080/"
        },
        "id": "ksPnAIfOfCuo",
        "outputId": "3a915ddf-4d4f-4b7d-d2c3-97607be7c965"
      },
      "outputs": [
        {
          "output_type": "stream",
          "name": "stdout",
          "text": [
            "Column \"seller_type\" is categorical\n",
            "Overview of column \"seller_type\"\n",
            "+----------------+---------------------+\n",
            "|    Measure     |        Value        |\n",
            "+----------------+---------------------+\n",
            "| Distinct Count |          3          |\n",
            "|   Distinct %   | 0.02906695087685302 |\n",
            "| Missing Count  |          0          |\n",
            "|   Missing %    |         0.0         |\n",
            "+----------------+---------------------+\n",
            "\n",
            "\n",
            "Common values for column \"seller_type\"\n",
            "+------------------+-------+-------------------+\n",
            "|      Value       | Count |     Frequency     |\n",
            "+------------------+-------+-------------------+\n",
            "|      Dealer      |  6787 | 65.75913186706714 |\n",
            "|    Individual    |  3430 | 33.23321383586862 |\n",
            "| Trustmark Dealer |  104  | 1.007654297064238 |\n",
            "+------------------+-------+-------------------+\n",
            "\n",
            "\n"
          ]
        }
      ],
      "source": [
        "data_seller_type = analyze_data(df, 'seller_type')"
      ]
    },
    {
      "cell_type": "code",
      "execution_count": 46,
      "metadata": {
        "colab": {
          "base_uri": "https://localhost:8080/",
          "height": 425
        },
        "id": "03FHfF3lfCuo",
        "outputId": "eb6bdb54-9ca6-464e-a9c9-3a996b0c86c1"
      },
      "outputs": [
        {
          "output_type": "execute_result",
          "data": {
            "text/plain": [
              "Text(0, 0.5, 'Frequency')"
            ]
          },
          "metadata": {},
          "execution_count": 46
        },
        {
          "output_type": "display_data",
          "data": {
            "text/plain": [
              "<Figure size 432x432 with 1 Axes>"
            ],
            "image/png": "[encoded data removed]"
          },
          "metadata": {
            "needs_background": "light"
          }
        }
      ],
      "source": [
        "# Plot the bar plot for the column 'seller_type'\n",
        "fig, bar = plt.subplots(1, 1, figsize=(6, 6))\n",
        "\n",
        "bar = sns.countplot(x=df['seller_type'], edgecolor='#000', linewidth= 1)\n",
        "bar.set_title('Bar Plot: seller_type')\n",
        "bar.set_xlabel('Seller')\n",
        "bar.set_ylabel('Frequency')"
      ]
    },
    {
      "cell_type": "markdown",
      "metadata": {
        "id": "Csqi0NqnfCuo"
      },
      "source": [
        "#### Transmission: `transmission_type`"
      ]
    },
    {
      "cell_type": "markdown",
      "metadata": {
        "id": "U_27zlRzfCup"
      },
      "source": [
        "Summary: \n",
        "- 2 distinct values\n",
        "- *Manual* transmission cars make up for ~67.8% of the dataset rest are *Automatic*"
      ]
    },
    {
      "cell_type": "code",
      "execution_count": 47,
      "metadata": {
        "colab": {
          "base_uri": "https://localhost:8080/"
        },
        "id": "XNmo4NdzfCup",
        "outputId": "785e5f49-5ce4-4875-cdfb-1fd3ac6f31e4"
      },
      "outputs": [
        {
          "output_type": "stream",
          "name": "stdout",
          "text": [
            "Column \"transmission_type\" is categorical\n",
            "Overview of column \"transmission_type\"\n",
            "+----------------+----------------------+\n",
            "|    Measure     |        Value         |\n",
            "+----------------+----------------------+\n",
            "| Distinct Count |          2           |\n",
            "|   Distinct %   | 0.019377967251235348 |\n",
            "| Missing Count  |          0           |\n",
            "|   Missing %    |         0.0          |\n",
            "+----------------+----------------------+\n",
            "\n",
            "\n",
            "Common values for column \"transmission_type\"\n",
            "+-----------+-------+--------------------+\n",
            "|   Value   | Count |     Frequency      |\n",
            "+-----------+-------+--------------------+\n",
            "|   Manual  |  7004 | 67.86164131382618  |\n",
            "| Automatic |  3317 | 32.138358686173824 |\n",
            "+-----------+-------+--------------------+\n",
            "\n",
            "\n"
          ]
        }
      ],
      "source": [
        "data_transmission = analyze_data(df, 'transmission_type')"
      ]
    },
    {
      "cell_type": "code",
      "execution_count": 48,
      "metadata": {
        "colab": {
          "base_uri": "https://localhost:8080/",
          "height": 425
        },
        "id": "obGvLZ41fCup",
        "outputId": "969a16e5-0f2a-448b-bb66-4fad39101845"
      },
      "outputs": [
        {
          "output_type": "execute_result",
          "data": {
            "text/plain": [
              "Text(0, 0.5, 'Frequency')"
            ]
          },
          "metadata": {},
          "execution_count": 48
        },
        {
          "output_type": "display_data",
          "data": {
            "text/plain": [
              "<Figure size 432x432 with 1 Axes>"
            ],
            "image/png": "[encoded data removed]"
          },
          "metadata": {
            "needs_background": "light"
          }
        }
      ],
      "source": [
        "# Plot the bar plot for the column 'fuel'\n",
        "fig, bar = plt.subplots(1, 1, figsize=(6, 6))\n",
        "\n",
        "bar = sns.countplot(x=df['transmission_type'], edgecolor='#000', linewidth= 1)\n",
        "bar.set_title('Bar Plot: transmission_type')\n",
        "bar.set_xlabel('Transmission type')\n",
        "bar.set_ylabel('Frequency')"
      ]
    },
    {
      "cell_type": "markdown",
      "metadata": {
        "id": "QEiw1MisfCup"
      },
      "source": [
        "#### Owner: `owner_type`"
      ]
    },
    {
      "cell_type": "markdown",
      "metadata": {
        "id": "mfqtiDkcfCuq"
      },
      "source": [
        "Summary: \n",
        "- 2 distinct values\n",
        "- The data is dominated by *First Owner* type (~99.99%)"
      ]
    },
    {
      "cell_type": "code",
      "execution_count": 49,
      "metadata": {
        "colab": {
          "base_uri": "https://localhost:8080/"
        },
        "id": "-0FXfBwffCuq",
        "outputId": "9048d1f6-1629-4612-fc23-be51c875354f"
      },
      "outputs": [
        {
          "output_type": "stream",
          "name": "stdout",
          "text": [
            "Column \"owner_type\" is categorical\n",
            "Overview of column \"owner_type\"\n",
            "+----------------+----------------------+\n",
            "|    Measure     |        Value         |\n",
            "+----------------+----------------------+\n",
            "| Distinct Count |          2           |\n",
            "|   Distinct %   | 0.019377967251235348 |\n",
            "| Missing Count  |          0           |\n",
            "|   Missing %    |         0.0          |\n",
            "+----------------+----------------------+\n",
            "\n",
            "\n",
            "Common values for column \"owner_type\"\n",
            "+--------------+-------+----------------------+\n",
            "|    Value     | Count |      Frequency       |\n",
            "+--------------+-------+----------------------+\n",
            "| First Owner  | 10320 |  99.99031101637438   |\n",
            "| Second Owner |   1   | 0.009688983625617672 |\n",
            "+--------------+-------+----------------------+\n",
            "\n",
            "\n"
          ]
        }
      ],
      "source": [
        "data_owner = analyze_data(df, 'owner_type')"
      ]
    },
    {
      "cell_type": "code",
      "execution_count": 50,
      "metadata": {
        "colab": {
          "base_uri": "https://localhost:8080/",
          "height": 425
        },
        "id": "SE3OVKIXfCuq",
        "outputId": "de7efad4-8722-47f3-b387-0bb72468d671"
      },
      "outputs": [
        {
          "output_type": "execute_result",
          "data": {
            "text/plain": [
              "Text(0, 0.5, 'Frequency')"
            ]
          },
          "metadata": {},
          "execution_count": 50
        },
        {
          "output_type": "display_data",
          "data": {
            "text/plain": [
              "<Figure size 576x432 with 1 Axes>"
            ],
            "image/png": "[encoded data removed]"
          },
          "metadata": {
            "needs_background": "light"
          }
        }
      ],
      "source": [
        "# Plot the bar plot for the column 'fuel'\n",
        "fig, bar = plt.subplots(1, 1, figsize=(8, 6))\n",
        "\n",
        "bar = sns.countplot(x=df['owner_type'], edgecolor='#000', linewidth= 1)\n",
        "bar.set_title('Bar Plot: owner_type')\n",
        "bar.set_xlabel('Owner type')\n",
        "bar.set_ylabel('Frequency')"
      ]
    },
    {
      "cell_type": "markdown",
      "metadata": {
        "id": "HJDjtjA1fCuq"
      },
      "source": [
        "#### Seats: `seats`"
      ]
    },
    {
      "cell_type": "markdown",
      "metadata": {
        "id": "v2jjJLwlfCuq"
      },
      "source": [
        "Summary: \n",
        "This one's tricky. While seats has integer datatype and my helper function recognises it as numeric, I think we should treat it as a categorical variable.\n",
        "- 8 distinct values\n",
        "- Most cars have *5* seats (about 75%)"
      ]
    },
    {
      "cell_type": "code",
      "execution_count": 51,
      "metadata": {
        "colab": {
          "base_uri": "https://localhost:8080/"
        },
        "id": "BiW99AOPfCur",
        "outputId": "3182f99a-7613-452c-b9b7-d0a46607dfa0"
      },
      "outputs": [
        {
          "output_type": "stream",
          "name": "stdout",
          "text": [
            "\tAnalyzing: Column \"seats\" is numeric\n",
            "\n",
            "Overview of column \"seats\"\n",
            "+----------------+---------------------+\n",
            "|    Measure     |        Value        |\n",
            "+----------------+---------------------+\n",
            "| Distinct Count |          8          |\n",
            "|   Distinct %   | 0.07751186900494139 |\n",
            "| Missing Count  |          0          |\n",
            "|   Missing %    |         0.0         |\n",
            "|      Mean      |  5.475825985854084  |\n",
            "|    Minimum     |         2.0         |\n",
            "|    Maximum     |         10.0        |\n",
            "+----------------+---------------------+\n",
            "\n",
            "\n",
            "Quantile stats for column \"seats\"\n",
            "+---------------------+-------+\n",
            "|      Statistic      | Value |\n",
            "+---------------------+-------+\n",
            "|       Minimum       |  2.0  |\n",
            "|    5th Percentile   |  5.0  |\n",
            "|  First Quartile, Q1 |  5.0  |\n",
            "|        Median       |  5.0  |\n",
            "|  Third Quartile, Q3 |  5.0  |\n",
            "|   95th Percentile   |  7.0  |\n",
            "|       Maximum       |  10.0 |\n",
            "|        Range        |  8.0  |\n",
            "| Interquartile Range |  0.0  |\n",
            "+---------------------+-------+\n",
            "\n",
            "\n",
            "Descriptive stats for column \"seats\"\n",
            "+--------------------------+---------------------+\n",
            "|        Statistic         |        Value        |\n",
            "+--------------------------+---------------------+\n",
            "|           Mean           |  5.475825985854084  |\n",
            "|           Sum            |       56516.0       |\n",
            "|         Variance         |  0.895176219328546  |\n",
            "|    Standard deviation    |  0.9461375266463887 |\n",
            "| Coefficient of variation | 0.17278444002614088 |\n",
            "|         Kurtosis         |  1.2540173455849115 |\n",
            "| Mean absolute deviation  |  0.7604293610055687 |\n",
            "|         Skewness         |  1.4083810186110608 |\n",
            "|        Monotonous        |        False        |\n",
            "+--------------------------+---------------------+\n",
            "\n",
            "\n",
            "Extremums for column \"seats\"\n",
            "Maximum 5 values\n",
            "+-------+-------+---------------------+\n",
            "| Value | Count |         Freq        |\n",
            "+-------+-------+---------------------+\n",
            "|  10.0 |   7   | 0.06782288537932371 |\n",
            "|  9.0  |   46  | 0.44569324677841293 |\n",
            "|  8.0  |  281  |  2.722604398798566  |\n",
            "|  7.0  |  1956 |  18.951651971708166 |\n",
            "|  6.0  |   76  |  0.7363627555469431 |\n",
            "+-------+-------+---------------------+\n",
            "Minimum 5 values\n",
            "+-------+-------+---------------------+\n",
            "| Value | Count |         Freq        |\n",
            "+-------+-------+---------------------+\n",
            "|  2.0  |   16  | 0.15502373800988278 |\n",
            "|  4.0  |   91  |  0.8816975099312082 |\n",
            "|  5.0  |  7848 |  76.03914349384749  |\n",
            "|  6.0  |   76  |  0.7363627555469431 |\n",
            "|  7.0  |  1956 |  18.951651971708166 |\n",
            "+-------+-------+---------------------+\n",
            "\n",
            "\n",
            "Common values for column \"seats\"\n",
            "+-------+-------+--------------------+\n",
            "| Value | Count |     Frequency      |\n",
            "+-------+-------+--------------------+\n",
            "|  5.0  |  7848 | 76.03914349384749  |\n",
            "|  7.0  |  1956 | 18.951651971708166 |\n",
            "|  8.0  |  281  | 2.722604398798566  |\n",
            "|  4.0  |   91  | 0.8816975099312082 |\n",
            "|  6.0  |   76  | 0.7363627555469431 |\n",
            "+-------+-------+--------------------+\n",
            "\n",
            "\n"
          ]
        }
      ],
      "source": [
        "data_seats = analyze_data(df, 'seats')"
      ]
    },
    {
      "cell_type": "code",
      "execution_count": 52,
      "metadata": {
        "colab": {
          "base_uri": "https://localhost:8080/",
          "height": 425
        },
        "id": "ktOPD3q1fCur",
        "outputId": "25f5cf37-f148-4fb6-c71e-a74b4e7a0f82"
      },
      "outputs": [
        {
          "output_type": "execute_result",
          "data": {
            "text/plain": [
              "Text(0, 0.5, 'Frequency')"
            ]
          },
          "metadata": {},
          "execution_count": 52
        },
        {
          "output_type": "display_data",
          "data": {
            "text/plain": [
              "<Figure size 576x432 with 1 Axes>"
            ],
            "image/png": "[encoded data removed]"
          },
          "metadata": {
            "needs_background": "light"
          }
        }
      ],
      "source": [
        "# Plot the bar plot for the column 'fuel'\n",
        "fig, bar = plt.subplots(1, 1, figsize=(8, 6))\n",
        "\n",
        "bar = sns.countplot(x=df['seats'], edgecolor='#000', linewidth= 1)\n",
        "bar.set_title('Bar Plot: seats')\n",
        "bar.set_xlabel('Number of Seats')\n",
        "bar.set_ylabel('Frequency')"
      ]
    },
    {
      "cell_type": "markdown",
      "metadata": {
        "id": "Pp0_5F0ffCur"
      },
      "source": [
        "## 2.3 Correlation Analysis (bivariate analysis)"
      ]
    },
    {
      "cell_type": "markdown",
      "metadata": {
        "id": "-qYdgiG4fCur"
      },
      "source": [
        "### 2.3.1 Qualitative Analysis"
      ]
    },
    {
      "cell_type": "markdown",
      "metadata": {
        "id": "vLtwAQkjfCur"
      },
      "source": [
        "#### Categorical and Numerical"
      ]
    },
    {
      "cell_type": "markdown",
      "metadata": {
        "id": "-zK_9Mh6fCur"
      },
      "source": [
        "Descriptive statistics or histogram of Y​ per unique values of Y"
      ]
    },
    {
      "cell_type": "code",
      "execution_count": 32,
      "metadata": {
        "id": "AmxeBOKmfCus"
      },
      "outputs": [],
      "source": [
        "# # %matplotlib inline\n",
        "# # Due to high cardinality, drop the column 'name'\n",
        "# col = df.columns.values\n",
        "# col = np.delete(col, np.where(col == 'name'))\n",
        "\n",
        "# feature_1 = widgets.ToggleButtons(\n",
        "#     options=col,\n",
        "#     description='Feature 1:',\n",
        "#     disabled=False,\n",
        "#     button_style='', # 'success', 'info', 'warning', 'danger' or ''\n",
        "# )\n",
        "\n",
        "# feature_2 = widgets.ToggleButtons(\n",
        "#     options=col,\n",
        "#     description='Feature 2:',\n",
        "#     disabled=False,\n",
        "#     button_style='', # 'success', 'info', 'warning', 'danger' or ''\n",
        "# )\n",
        "\n",
        "\n",
        "# def update_plot(feature_1, feature_2):\n",
        "# \t# Check if both the features are numerical\n",
        "# \tfeature_1_is_numerical = df[feature_1].dtype in ['int64', 'float64']\n",
        "# \tfeature_2_is_numerical = df[feature_2].dtype in ['int64', 'float64']\n",
        "\n",
        "# \tif feature_1_is_numerical and feature_2_is_numerical:\n",
        "# \t\t# Plot the scatter plot for the two features\n",
        "# \t\tfig, scatter = plt.subplots(1, 1, figsize=(10, 6))\n",
        "# \t\tscatter = sns.scatterplot(x=df[feature_1], y=df[feature_2], data=df, ax=scatter)\n",
        "# \t\tscatter.set_title('Scatter Plot: ' + feature_1 + ' vs ' + feature_2)\n",
        "# \t\tscatter.set_xlabel(feature_1)\n",
        "# \t\tscatter.set_ylabel(feature_2)\n",
        "# \t\tplt.show()\n",
        "\t\n",
        "# \telif feature_1_is_numerical and not feature_2_is_numerical:\n",
        "# \t\t# Plot the histogram of the feature_1 per unique value of feature_2\n",
        "# \t\tfig, hist = plt.subplots(1, 1, figsize=(10, 6))\n",
        "# \t\thist = sns.histplot(x=df[feature_1], hue=df[feature_2], bins=50, data=df, ax=hist)\n",
        "# \t\thist.set_title('Histogram: ' + feature_1 + ' vs ' + feature_2)\n",
        "# \t\thist.set_xlabel(feature_1)\n",
        "# \t\thist.set_ylabel('Frequency')\n",
        "# \t\tplt.show()\n",
        "\t\n",
        "# \telif not feature_1_is_numerical and feature_2_is_numerical:\n",
        "# \t\t# Plot the histogram of the feature_2 per unique value of feature_1\n",
        "# \t\tfig, hist = plt.subplots(1, 1, figsize=(10, 6))\n",
        "# \t\thist = sns.histplot(x=df[feature_2], hue=df[feature_1],  bins=50, data=df, ax=hist)\n",
        "# \t\thist.set_title('Histogram: ' + feature_1 + ' vs ' + feature_2)\n",
        "# \t\thist.set_xlabel(feature_2)\n",
        "# \t\thist.set_ylabel('Frequency')\n",
        "# \t\tplt.show()\n",
        "\t\n",
        "# \telse:\n",
        "# \t\t# Get the contingency table for the two features\n",
        "# \t\tcont_table = pd.crosstab(df[feature_1], df[feature_2])\n",
        "# \t\t# Plot the contigency table\n",
        "# \t\tfig, cont = plt.subplots(1, 1, figsize=(10, 6))\n",
        "# \t\tcont = sns.heatmap(cont_table, annot=True, fmt='d', ax=cont)\n",
        "# \t\tcont.set_title('Contingency Table: ' + feature_1 + ' vs ' + feature_2)\n",
        "# \t\tcont.set_xlabel(feature_2)\n",
        "# \t\tcont.set_ylabel(feature_1)\n",
        "# \t\tplt.show()\n",
        "\n",
        "# interact(update_plot, feature_1=feature_1, feature_2=feature_2)"
      ]
    },
    {
      "cell_type": "code",
      "source": [
        "# Contingency table with unique counts of features 'fuel' per unique value of feature 'seller_type'\n",
        "cont_table = pd.crosstab(df['fuel_type'], df['seller_type'])\n",
        "cont_table"
      ],
      "metadata": {
        "colab": {
          "base_uri": "https://localhost:8080/",
          "height": 206
        },
        "id": "fJkg-9wxrFEv",
        "outputId": "dc02e670-15c1-4b42-de85-5f882a6f5021"
      },
      "execution_count": 33,
      "outputs": [
        {
          "output_type": "execute_result",
          "data": {
            "text/plain": [
              "seller_type  Dealer  Individual  Trustmark Dealer\n",
              "fuel_type                                        \n",
              "CNG              50          10                 4\n",
              "Diesel         4298        2272                11\n",
              "Electric          6           3                 0\n",
              "Petrol         2433        1145                89"
            ],
            "text/html": [
              "\n",
              "  <div id=\"df-73edc7ad-3fcf-45e6-b583-5405fdad3e36\">\n",
              "    <div class=\"colab-df-container\">\n",
              "      <div>\n",
              "<style scoped>\n",
              "    .dataframe tbody tr th:only-of-type {\n",
              "        vertical-align: middle;\n",
              "    }\n",
              "\n",
              "    .dataframe tbody tr th {\n",
              "        vertical-align: top;\n",
              "    }\n",
              "\n",
              "    .dataframe thead th {\n",
              "        text-align: right;\n",
              "    }\n",
              "</style>\n",
              "<table border=\"1\" class=\"dataframe\">\n",
              "  <thead>\n",
              "    <tr style=\"text-align: right;\">\n",
              "      <th>seller_type</th>\n",
              "      <th>Dealer</th>\n",
              "      <th>Individual</th>\n",
              "      <th>Trustmark Dealer</th>\n",
              "    </tr>\n",
              "    <tr>\n",
              "      <th>fuel_type</th>\n",
              "      <th></th>\n",
              "      <th></th>\n",
              "      <th></th>\n",
              "    </tr>\n",
              "  </thead>\n",
              "  <tbody>\n",
              "    <tr>\n",
              "      <th>CNG</th>\n",
              "      <td>50</td>\n",
              "      <td>10</td>\n",
              "      <td>4</td>\n",
              "    </tr>\n",
              "    <tr>\n",
              "      <th>Diesel</th>\n",
              "      <td>4298</td>\n",
              "      <td>2272</td>\n",
              "      <td>11</td>\n",
              "    </tr>\n",
              "    <tr>\n",
              "      <th>Electric</th>\n",
              "      <td>6</td>\n",
              "      <td>3</td>\n",
              "      <td>0</td>\n",
              "    </tr>\n",
              "    <tr>\n",
              "      <th>Petrol</th>\n",
              "      <td>2433</td>\n",
              "      <td>1145</td>\n",
              "      <td>89</td>\n",
              "    </tr>\n",
              "  </tbody>\n",
              "</table>\n",
              "</div>\n",
              "      <button class=\"colab-df-convert\" onclick=\"convertToInteractive('df-73edc7ad-3fcf-45e6-b583-5405fdad3e36')\"\n",
              "              title=\"Convert this dataframe to an interactive table.\"\n",
              "              style=\"display:none;\">\n",
              "        \n",
              "  <svg xmlns=\"http://www.w3.org/2000/svg\" height=\"24px\"viewBox=\"0 0 24 24\"\n",
              "       width=\"24px\">\n",
              "    <path d=\"M0 0h24v24H0V0z\" fill=\"none\"/>\n",
              "    <path d=\"M18.56 5.44l.94 2.06.94-2.06 2.06-.94-2.06-.94-.94-2.06-.94 2.06-2.06.94zm-11 1L8.5 8.5l.94-2.06 2.06-.94-2.06-.94L8.5 2.5l-.94 2.06-2.06.94zm10 10l.94 2.06.94-2.06 2.06-.94-2.06-.94-.94-2.06-.94 2.06-2.06.94z\"/><path d=\"M17.41 7.96l-1.37-1.37c-.4-.4-.92-.59-1.43-.59-.52 0-1.04.2-1.43.59L10.3 9.45l-7.72 7.72c-.78.78-.78 2.05 0 2.83L4 21.41c.39.39.9.59 1.41.59.51 0 1.02-.2 1.41-.59l7.78-7.78 2.81-2.81c.8-.78.8-2.07 0-2.86zM5.41 20L4 18.59l7.72-7.72 1.47 1.35L5.41 20z\"/>\n",
              "  </svg>\n",
              "      </button>\n",
              "      \n",
              "  <style>\n",
              "    .colab-df-container {\n",
              "      display:flex;\n",
              "      flex-wrap:wrap;\n",
              "      gap: 12px;\n",
              "    }\n",
              "\n",
              "    .colab-df-convert {\n",
              "      background-color: #E8F0FE;\n",
              "      border: none;\n",
              "      border-radius: 50%;\n",
              "      cursor: pointer;\n",
              "      display: none;\n",
              "      fill: #1967D2;\n",
              "      height: 32px;\n",
              "      padding: 0 0 0 0;\n",
              "      width: 32px;\n",
              "    }\n",
              "\n",
              "    .colab-df-convert:hover {\n",
              "      background-color: #E2EBFA;\n",
              "      box-shadow: 0px 1px 2px rgba(60, 64, 67, 0.3), 0px 1px 3px 1px rgba(60, 64, 67, 0.15);\n",
              "      fill: #174EA6;\n",
              "    }\n",
              "\n",
              "    [theme=dark] .colab-df-convert {\n",
              "      background-color: #3B4455;\n",
              "      fill: #D2E3FC;\n",
              "    }\n",
              "\n",
              "    [theme=dark] .colab-df-convert:hover {\n",
              "      background-color: #434B5C;\n",
              "      box-shadow: 0px 1px 3px 1px rgba(0, 0, 0, 0.15);\n",
              "      filter: drop-shadow(0px 1px 2px rgba(0, 0, 0, 0.3));\n",
              "      fill: #FFFFFF;\n",
              "    }\n",
              "  </style>\n",
              "\n",
              "      <script>\n",
              "        const buttonEl =\n",
              "          document.querySelector('#df-73edc7ad-3fcf-45e6-b583-5405fdad3e36 button.colab-df-convert');\n",
              "        buttonEl.style.display =\n",
              "          google.colab.kernel.accessAllowed ? 'block' : 'none';\n",
              "\n",
              "        async function convertToInteractive(key) {\n",
              "          const element = document.querySelector('#df-73edc7ad-3fcf-45e6-b583-5405fdad3e36');\n",
              "          const dataTable =\n",
              "            await google.colab.kernel.invokeFunction('convertToInteractive',\n",
              "                                                     [key], {});\n",
              "          if (!dataTable) return;\n",
              "\n",
              "          const docLinkHtml = 'Like what you see? Visit the ' +\n",
              "            '<a target=\"_blank\" href=https://colab.research.google.com/notebooks/data_table.ipynb>data table notebook</a>'\n",
              "            + ' to learn more about interactive tables.';\n",
              "          element.innerHTML = '';\n",
              "          dataTable['output_type'] = 'display_data';\n",
              "          await google.colab.output.renderOutput(dataTable, element);\n",
              "          const docLink = document.createElement('div');\n",
              "          docLink.innerHTML = docLinkHtml;\n",
              "          element.appendChild(docLink);\n",
              "        }\n",
              "      </script>\n",
              "    </div>\n",
              "  </div>\n",
              "  "
            ]
          },
          "metadata": {},
          "execution_count": 33
        }
      ]
    },
    {
      "cell_type": "markdown",
      "metadata": {
        "id": "y-Zci3gyfCuu"
      },
      "source": [
        "#### Both Numerical"
      ]
    },
    {
      "cell_type": "markdown",
      "metadata": {
        "id": "kVN8T9TlfCuv"
      },
      "source": [
        "Sampled scatter plot: works best with a mixture of ordinal categorical and interval data"
      ]
    },
    {
      "cell_type": "code",
      "source": [
        "%matplotlib inline\n",
        "feature_1 = df['engine']\n",
        "feature_2 = df['max_power']\n",
        "fig, scatter = plt.subplots(1, 1, figsize=(10, 6))\n",
        "scatter = sns.scatterplot(x = feature_1, y=feature_2, data=df, ax=scatter)"
      ],
      "metadata": {
        "colab": {
          "base_uri": "https://localhost:8080/",
          "height": 391
        },
        "id": "EAUcv53MNIxo",
        "outputId": "b63221a6-f766-4450-f03c-415eedbf026a"
      },
      "execution_count": 34,
      "outputs": [
        {
          "output_type": "display_data",
          "data": {
            "text/plain": [
              "<Figure size 720x432 with 1 Axes>"
            ],
            "image/png": "[encoded data removed]"
          },
          "metadata": {
            "needs_background": "light"
          }
        }
      ]
    },
    {
      "cell_type": "markdown",
      "metadata": {
        "id": "Fh08kk1SfCuv"
      },
      "source": [
        "#### Both Categorical"
      ]
    },
    {
      "cell_type": "markdown",
      "metadata": {
        "id": "DCCi-fv8fCuv"
      },
      "source": [
        "Contingency tables with unique counts of​ X ​per unique value of Y​ "
      ]
    },
    {
      "cell_type": "code",
      "source": [
        "feature_1 = df['fuel_type']\n",
        "feature_2 = df['transmission_type']\n",
        "cont_table = pd.crosstab(feature_1, feature_2)\n",
        "\n",
        "fig, cont = plt.subplots(1, 1, figsize=(10, 6))\n",
        "cont = sns.heatmap(cont_table, annot=True, fmt='d')"
      ],
      "metadata": {
        "colab": {
          "base_uri": "https://localhost:8080/",
          "height": 391
        },
        "id": "pe3I1bK3OrTG",
        "outputId": "5946d72d-7a57-4c24-8fe7-840aff546340"
      },
      "execution_count": 36,
      "outputs": [
        {
          "output_type": "display_data",
          "data": {
            "text/plain": [
              "<Figure size 720x432 with 2 Axes>"
            ],
            "image/png": "[encoded data removed]"
          },
          "metadata": {
            "needs_background": "light"
          }
        }
      ]
    },
    {
      "cell_type": "markdown",
      "metadata": {
        "id": "3eKnH9Y2fCux"
      },
      "source": [
        "# 3. Data Cleaning\n",
        "Before performing any analysis, we need to clean the data. Here a number of preprocessing steps are performed to clean the data.\n",
        "\n",
        "*Refer to the notebook \"[Car_price_Data_cleaning.ipynb](https://github.com/Ayush863/Car_Prices-A_Prediction_Service/blob/main/Car_price_Data_cleaning.ipynb)\" for this step*"
      ]
    }
  ],
  "metadata": {
    "kernelspec": {
      "display_name": "Python 3.10.4 ('Python_Work')",
      "language": "python",
      "name": "python3"
    },
    "language_info": {
      "codemirror_mode": {
        "name": "ipython",
        "version": 3
      },
      "file_extension": ".py",
      "mimetype": "text/x-python",
      "name": "python",
      "nbconvert_exporter": "python",
      "pygments_lexer": "ipython3",
      "version": "3.10.4"
    },
    "vscode": {
      "interpreter": {
        "hash": "b0913d48e5c2b2011c5d793b1f488f6eb19a712506b8e75c3a31346f35154db8"
      }
    },
    "colab": {
      "provenance": []
    },
    "gpuClass": "standard"
  },
  "nbformat": 4,
  "nbformat_minor": 0
}