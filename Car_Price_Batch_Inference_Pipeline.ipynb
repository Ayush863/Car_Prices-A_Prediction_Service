{
  "nbformat": 4,
  "nbformat_minor": 0,
  "metadata": {
    "colab": {
      "provenance": [],
      "authorship_tag": "ABX9TyPDX0DnCRqcceEuCHAuGMhu"
    },
    "kernelspec": {
      "name": "python3",
      "display_name": "Python 3"
    },
    "language_info": {
      "name": "python"
    },
    "widgets": {
      "application/vnd.jupyter.widget-state+json": {
        "764365d2d41d4b65a09f97ac3541b96e": {
          "model_module": "@jupyter-widgets/controls",
          "model_name": "HBoxModel",
          "model_module_version": "1.5.0",
          "state": {
            "_dom_classes": [],
            "_model_module": "@jupyter-widgets/controls",
            "_model_module_version": "1.5.0",
            "_model_name": "HBoxModel",
            "_view_count": null,
            "_view_module": "@jupyter-widgets/controls",
            "_view_module_version": "1.5.0",
            "_view_name": "HBoxView",
            "box_style": "",
            "children": [
              "IPY_MODEL_8213c1c63ffc4eeda244768b754f772d",
              "IPY_MODEL_6dd8667aa30f4b98a593e1d9c08b4569",
              "IPY_MODEL_7ace3526864c4254949bd1181b0b324d"
            ],
            "layout": "IPY_MODEL_ab79dad119f54b1eba7f90fd233c1c2e"
          }
        },
        "8213c1c63ffc4eeda244768b754f772d": {
          "model_module": "@jupyter-widgets/controls",
          "model_name": "HTMLModel",
          "model_module_version": "1.5.0",
          "state": {
            "_dom_classes": [],
            "_model_module": "@jupyter-widgets/controls",
            "_model_module_version": "1.5.0",
            "_model_name": "HTMLModel",
            "_view_count": null,
            "_view_module": "@jupyter-widgets/controls",
            "_view_module_version": "1.5.0",
            "_view_name": "HTMLView",
            "description": "",
            "description_tooltip": null,
            "layout": "IPY_MODEL_3bc0fc1911fa4cca838351e775532139",
            "placeholder": "​",
            "style": "IPY_MODEL_f720a92724ad4ff6b4583cfdef86c0e4",
            "value": "Uploading Dataframe: 100.00% "
          }
        },
        "6dd8667aa30f4b98a593e1d9c08b4569": {
          "model_module": "@jupyter-widgets/controls",
          "model_name": "FloatProgressModel",
          "model_module_version": "1.5.0",
          "state": {
            "_dom_classes": [],
            "_model_module": "@jupyter-widgets/controls",
            "_model_module_version": "1.5.0",
            "_model_name": "FloatProgressModel",
            "_view_count": null,
            "_view_module": "@jupyter-widgets/controls",
            "_view_module_version": "1.5.0",
            "_view_name": "ProgressView",
            "bar_style": "success",
            "description": "",
            "description_tooltip": null,
            "layout": "IPY_MODEL_9123d219141249488e158de073fe4e5c",
            "max": 1,
            "min": 0,
            "orientation": "horizontal",
            "style": "IPY_MODEL_34fb48307a8547b99b1a9214a1575352",
            "value": 1
          }
        },
        "7ace3526864c4254949bd1181b0b324d": {
          "model_module": "@jupyter-widgets/controls",
          "model_name": "HTMLModel",
          "model_module_version": "1.5.0",
          "state": {
            "_dom_classes": [],
            "_model_module": "@jupyter-widgets/controls",
            "_model_module_version": "1.5.0",
            "_model_name": "HTMLModel",
            "_view_count": null,
            "_view_module": "@jupyter-widgets/controls",
            "_view_module_version": "1.5.0",
            "_view_name": "HTMLView",
            "description": "",
            "description_tooltip": null,
            "layout": "IPY_MODEL_3c88242621c544948c68314c6992690b",
            "placeholder": "​",
            "style": "IPY_MODEL_251f615e992e42efa9ac9a1f9365e529",
            "value": " Rows 1/1 | Elapsed Time: 00:00 | Remaining Time: 00:00"
          }
        },
        "ab79dad119f54b1eba7f90fd233c1c2e": {
          "model_module": "@jupyter-widgets/base",
          "model_name": "LayoutModel",
          "model_module_version": "1.2.0",
          "state": {
            "_model_module": "@jupyter-widgets/base",
            "_model_module_version": "1.2.0",
            "_model_name": "LayoutModel",
            "_view_count": null,
            "_view_module": "@jupyter-widgets/base",
            "_view_module_version": "1.2.0",
            "_view_name": "LayoutView",
            "align_content": null,
            "align_items": null,
            "align_self": null,
            "border": null,
            "bottom": null,
            "display": null,
            "flex": null,
            "flex_flow": null,
            "grid_area": null,
            "grid_auto_columns": null,
            "grid_auto_flow": null,
            "grid_auto_rows": null,
            "grid_column": null,
            "grid_gap": null,
            "grid_row": null,
            "grid_template_areas": null,
            "grid_template_columns": null,
            "grid_template_rows": null,
            "height": null,
            "justify_content": null,
            "justify_items": null,
            "left": null,
            "margin": null,
            "max_height": null,
            "max_width": null,
            "min_height": null,
            "min_width": null,
            "object_fit": null,
            "object_position": null,
            "order": null,
            "overflow": null,
            "overflow_x": null,
            "overflow_y": null,
            "padding": null,
            "right": null,
            "top": null,
            "visibility": null,
            "width": null
          }
        },
        "3bc0fc1911fa4cca838351e775532139": {
          "model_module": "@jupyter-widgets/base",
          "model_name": "LayoutModel",
          "model_module_version": "1.2.0",
          "state": {
            "_model_module": "@jupyter-widgets/base",
            "_model_module_version": "1.2.0",
            "_model_name": "LayoutModel",
            "_view_count": null,
            "_view_module": "@jupyter-widgets/base",
            "_view_module_version": "1.2.0",
            "_view_name": "LayoutView",
            "align_content": null,
            "align_items": null,
            "align_self": null,
            "border": null,
            "bottom": null,
            "display": null,
            "flex": null,
            "flex_flow": null,
            "grid_area": null,
            "grid_auto_columns": null,
            "grid_auto_flow": null,
            "grid_auto_rows": null,
            "grid_column": null,
            "grid_gap": null,
            "grid_row": null,
            "grid_template_areas": null,
            "grid_template_columns": null,
            "grid_template_rows": null,
            "height": null,
            "justify_content": null,
            "justify_items": null,
            "left": null,
            "margin": null,
            "max_height": null,
            "max_width": null,
            "min_height": null,
            "min_width": null,
            "object_fit": null,
            "object_position": null,
            "order": null,
            "overflow": null,
            "overflow_x": null,
            "overflow_y": null,
            "padding": null,
            "right": null,
            "top": null,
            "visibility": null,
            "width": null
          }
        },
        "f720a92724ad4ff6b4583cfdef86c0e4": {
          "model_module": "@jupyter-widgets/controls",
          "model_name": "DescriptionStyleModel",
          "model_module_version": "1.5.0",
          "state": {
            "_model_module": "@jupyter-widgets/controls",
            "_model_module_version": "1.5.0",
            "_model_name": "DescriptionStyleModel",
            "_view_count": null,
            "_view_module": "@jupyter-widgets/base",
            "_view_module_version": "1.2.0",
            "_view_name": "StyleView",
            "description_width": ""
          }
        },
        "9123d219141249488e158de073fe4e5c": {
          "model_module": "@jupyter-widgets/base",
          "model_name": "LayoutModel",
          "model_module_version": "1.2.0",
          "state": {
            "_model_module": "@jupyter-widgets/base",
            "_model_module_version": "1.2.0",
            "_model_name": "LayoutModel",
            "_view_count": null,
            "_view_module": "@jupyter-widgets/base",
            "_view_module_version": "1.2.0",
            "_view_name": "LayoutView",
            "align_content": null,
            "align_items": null,
            "align_self": null,
            "border": null,
            "bottom": null,
            "display": null,
            "flex": null,
            "flex_flow": null,
            "grid_area": null,
            "grid_auto_columns": null,
            "grid_auto_flow": null,
            "grid_auto_rows": null,
            "grid_column": null,
            "grid_gap": null,
            "grid_row": null,
            "grid_template_areas": null,
            "grid_template_columns": null,
            "grid_template_rows": null,
            "height": null,
            "justify_content": null,
            "justify_items": null,
            "left": null,
            "margin": null,
            "max_height": null,
            "max_width": null,
            "min_height": null,
            "min_width": null,
            "object_fit": null,
            "object_position": null,
            "order": null,
            "overflow": null,
            "overflow_x": null,
            "overflow_y": null,
            "padding": null,
            "right": null,
            "top": null,
            "visibility": null,
            "width": null
          }
        },
        "34fb48307a8547b99b1a9214a1575352": {
          "model_module": "@jupyter-widgets/controls",
          "model_name": "ProgressStyleModel",
          "model_module_version": "1.5.0",
          "state": {
            "_model_module": "@jupyter-widgets/controls",
            "_model_module_version": "1.5.0",
            "_model_name": "ProgressStyleModel",
            "_view_count": null,
            "_view_module": "@jupyter-widgets/base",
            "_view_module_version": "1.2.0",
            "_view_name": "StyleView",
            "bar_color": null,
            "description_width": ""
          }
        },
        "3c88242621c544948c68314c6992690b": {
          "model_module": "@jupyter-widgets/base",
          "model_name": "LayoutModel",
          "model_module_version": "1.2.0",
          "state": {
            "_model_module": "@jupyter-widgets/base",
            "_model_module_version": "1.2.0",
            "_model_name": "LayoutModel",
            "_view_count": null,
            "_view_module": "@jupyter-widgets/base",
            "_view_module_version": "1.2.0",
            "_view_name": "LayoutView",
            "align_content": null,
            "align_items": null,
            "align_self": null,
            "border": null,
            "bottom": null,
            "display": null,
            "flex": null,
            "flex_flow": null,
            "grid_area": null,
            "grid_auto_columns": null,
            "grid_auto_flow": null,
            "grid_auto_rows": null,
            "grid_column": null,
            "grid_gap": null,
            "grid_row": null,
            "grid_template_areas": null,
            "grid_template_columns": null,
            "grid_template_rows": null,
            "height": null,
            "justify_content": null,
            "justify_items": null,
            "left": null,
            "margin": null,
            "max_height": null,
            "max_width": null,
            "min_height": null,
            "min_width": null,
            "object_fit": null,
            "object_position": null,
            "order": null,
            "overflow": null,
            "overflow_x": null,
            "overflow_y": null,
            "padding": null,
            "right": null,
            "top": null,
            "visibility": null,
            "width": null
          }
        },
        "251f615e992e42efa9ac9a1f9365e529": {
          "model_module": "@jupyter-widgets/controls",
          "model_name": "DescriptionStyleModel",
          "model_module_version": "1.5.0",
          "state": {
            "_model_module": "@jupyter-widgets/controls",
            "_model_module_version": "1.5.0",
            "_model_name": "DescriptionStyleModel",
            "_view_count": null,
            "_view_module": "@jupyter-widgets/base",
            "_view_module_version": "1.2.0",
            "_view_name": "StyleView",
            "description_width": ""
          }
        }
      }
    }
  },
  "cells": [
    {
      "cell_type": "code",
      "execution_count": 39,
      "metadata": {
        "id": "8r_IGV_uF3Yd"
      },
      "outputs": [],
      "source": [
        "! pip install -U hopsworks --quiet"
      ]
    },
    {
      "cell_type": "code",
      "source": [
        "import pandas as pd\n",
        "import hopsworks\n",
        "import joblib\n",
        "\n",
        "project = hopsworks.login()\n",
        "fs = project.get_feature_store()"
      ],
      "metadata": {
        "id": "pApjJNPtGI7w",
        "colab": {
          "base_uri": "https://localhost:8080/"
        },
        "outputId": "6c336a0f-9c26-4aa7-9573-f03c13b239cd"
      },
      "execution_count": 40,
      "outputs": [
        {
          "output_type": "stream",
          "name": "stdout",
          "text": [
            "Connection closed.\n",
            "Connected. Call `.close()` to terminate connection gracefully.\n",
            "\n",
            "Logged in to project, explore it here https://c.app.hopsworks.ai:443/p/3342\n",
            "Connected. Call `.close()` to terminate connection gracefully.\n"
          ]
        }
      ]
    },
    {
      "cell_type": "code",
      "source": [
        "! pip install dataframe-image --quiet\n",
        "from datetime import datetime\n",
        "now = datetime.now().strftime(\"%m/%d/%Y, %H:%M:%S\")"
      ],
      "metadata": {
        "id": "aZ8EeyogkmgG"
      },
      "execution_count": 41,
      "outputs": []
    },
    {
      "cell_type": "markdown",
      "source": [
        "## Load the Model from Model Registry"
      ],
      "metadata": {
        "id": "vo7Dirn0jgKs"
      }
    },
    {
      "cell_type": "code",
      "source": [
        "mr = project.get_model_registry()\n",
        "model = mr.get_model(\"car_prices\", version=1)\n",
        "model_dir = model.download()\n",
        "model = joblib.load(model_dir + \"/car_prices_model.pkl\")"
      ],
      "metadata": {
        "colab": {
          "base_uri": "https://localhost:8080/"
        },
        "id": "7miMbiV9GNpg",
        "outputId": "5310e6e0-631e-4274-965d-442ed64a0edd"
      },
      "execution_count": 42,
      "outputs": [
        {
          "output_type": "stream",
          "name": "stdout",
          "text": [
            "Connected. Call `.close()` to terminate connection gracefully.\n",
            "Downloading file ... "
          ]
        }
      ]
    },
    {
      "cell_type": "code",
      "source": [
        "try:\n",
        "  feature_view = fs.get_feature_view(name=\"car_prices_inf\", version=1)\n",
        "except:\n",
        "  car_fg  = fs.get_feature_group(name=\"car_prices_inference\", version=1)\n",
        "  query = car_fg .select_all()\n",
        "  feature_view = fs.create_feature_view(name=\"car_prices_inf\",\n",
        "                                        version=1,\n",
        "                                        description=\"Read from car price dataset for inference\",\n",
        "                                        labels=[\"selling_price\"],\n",
        "                                        query=query)"
      ],
      "metadata": {
        "id": "Mrd0f2NaGa7N"
      },
      "execution_count": 43,
      "outputs": []
    },
    {
      "cell_type": "code",
      "source": [
        "X_train, X_test, y_train, y_test = feature_view.train_test_split(0.2)"
      ],
      "metadata": {
        "colab": {
          "base_uri": "https://localhost:8080/"
        },
        "id": "qKy2G-B4GmDE",
        "outputId": "e35ab475-bd4f-4617-cf3e-38b3c6209013"
      },
      "execution_count": 44,
      "outputs": [
        {
          "output_type": "stream",
          "name": "stderr",
          "text": [
            "VersionWarning: Incremented version to `17`.\n"
          ]
        }
      ]
    },
    {
      "cell_type": "code",
      "source": [
        "import datetime\n",
        "from PIL import Image\n",
        "\n",
        "batch_data = feature_view.get_batch_data()\n",
        "\n",
        "td_car = batch_data.sample()\n",
        "\n",
        "td_car_pred = td_car.drop('full_name', axis = 1)\n",
        "\n",
        "predictions = model.predict(td_car_pred)"
      ],
      "metadata": {
        "colab": {
          "base_uri": "https://localhost:8080/"
        },
        "id": "EHnMZ3wiG2iH",
        "outputId": "d843e92f-9fff-41ce-8cb8-cafd1890c6a5"
      },
      "execution_count": 45,
      "outputs": [
        {
          "output_type": "stream",
          "name": "stderr",
          "text": [
            "VersionWarning: No training dataset version was provided to initialise batch scoring . Defaulting to version 1.\n"
          ]
        }
      ]
    },
    {
      "cell_type": "code",
      "source": [
        "# td_car"
      ],
      "metadata": {
        "id": "rzvEJrd9Bx-g"
      },
      "execution_count": 46,
      "outputs": []
    },
    {
      "cell_type": "code",
      "source": [
        "# monitor_fg = fs.get_or_create_feature_group(name=\"car_predictions\",\n",
        "#                                   version=1,\n",
        "#                                   primary_key=[\"datetime\"],\n",
        "#                                   description=\"Car Price Prediction/Outcome Monitoring\"\n",
        "#                                  )"
      ],
      "metadata": {
        "id": "8SIdXXMiOb81"
      },
      "execution_count": 47,
      "outputs": []
    },
    {
      "cell_type": "code",
      "source": [
        "monitor_fg = fs.get_or_create_feature_group(name=\"car_predictions\",\n",
        "                                  version=2,\n",
        "                                  primary_key=[\"datetime\"],\n",
        "                                  description=\"Car Price Prediction/Outcome Monitoring\"\n",
        "                                 )\n",
        "data = {\n",
        "    'Predicted_price_in_Lakhs': predictions[-1],\n",
        "    'Car_name': td_car.iloc[0][0],\n",
        "    'Age_of_the_car_in_Years' : td_car.iloc[0][5],\n",
        "    'Max_power_in_BHP': td_car.iloc[0][4],\n",
        "    'Kilometers_driven' : td_car.iloc[0][1],\n",
        "    'datetime': [now],\n",
        "}\n",
        "monitor_df = pd.DataFrame(data)\n",
        "monitor_fg.insert(monitor_df)"
      ],
      "metadata": {
        "colab": {
          "base_uri": "https://localhost:8080/",
          "height": 156,
          "referenced_widgets": [
            "764365d2d41d4b65a09f97ac3541b96e",
            "8213c1c63ffc4eeda244768b754f772d",
            "6dd8667aa30f4b98a593e1d9c08b4569",
            "7ace3526864c4254949bd1181b0b324d",
            "ab79dad119f54b1eba7f90fd233c1c2e",
            "3bc0fc1911fa4cca838351e775532139",
            "f720a92724ad4ff6b4583cfdef86c0e4",
            "9123d219141249488e158de073fe4e5c",
            "34fb48307a8547b99b1a9214a1575352",
            "3c88242621c544948c68314c6992690b",
            "251f615e992e42efa9ac9a1f9365e529"
          ]
        },
        "id": "H8zbFAHmjOmz",
        "outputId": "3d19e93f-a75c-453e-98cc-209034a5c64f"
      },
      "execution_count": 48,
      "outputs": [
        {
          "output_type": "stream",
          "name": "stderr",
          "text": [
            "FeatureGroupWarning: The ingested dataframe contains upper case letters in feature names: `['Predicted_price_in_Lakhs', 'Car_name', 'Age_of_the_car_in_Years', 'Max_power_in_BHP', 'Kilometers_driven']`. Feature names are sanitized to lower case in the feature store.\n"
          ]
        },
        {
          "output_type": "display_data",
          "data": {
            "text/plain": [
              "Uploading Dataframe: 0.00% |          | Rows 0/1 | Elapsed Time: 00:00 | Remaining Time: ?"
            ],
            "application/vnd.jupyter.widget-view+json": {
              "version_major": 2,
              "version_minor": 0,
              "model_id": "764365d2d41d4b65a09f97ac3541b96e"
            }
          },
          "metadata": {}
        },
        {
          "output_type": "stream",
          "name": "stdout",
          "text": [
            "Launching offline feature group backfill job...\n",
            "Backfill Job started successfully, you can follow the progress at \n",
            "https://c.app.hopsworks.ai/p/3342/jobs/named/car_predictions_2_offline_fg_backfill/executions\n"
          ]
        },
        {
          "output_type": "execute_result",
          "data": {
            "text/plain": [
              "(<hsfs.core.job.Job at 0x7fa3b5e7e310>, None)"
            ]
          },
          "metadata": {},
          "execution_count": 48
        }
      ]
    },
    {
      "cell_type": "code",
      "source": [
        "# from datetime import datetime\n",
        "# now = datetime.now().strftime(\"%m/%d/%Y, %H:%M:%S\")\n",
        "\n",
        "# data = {\n",
        "#     'prediction': predictions[-1],\n",
        "#     'label': td_car.iloc[0][0],\n",
        "#     'datetime': [now],\n",
        "# }\n",
        "# monitor_df = pd.DataFrame(data)\n",
        "# monitor_fg.insert(monitor_df)"
      ],
      "metadata": {
        "id": "UjYtK4E1Objx"
      },
      "execution_count": 49,
      "outputs": []
    },
    {
      "cell_type": "code",
      "source": [
        "history_df = monitor_fg.read()\n",
        "history_df.rename(columns={'predicted_price_in_lakhs': 'Predicted Price(in Lakhs)',\n",
        "                           'car_name': 'Name', 'age_of_the_car_in_years': 'Age(in years)',\n",
        "                           'max_power_in_bhp': 'Max Power(in BHP)', 'kilometers_driven': 'KM Driven'}, inplace=True)\n",
        "history_df"
      ],
      "metadata": {
        "colab": {
          "base_uri": "https://localhost:8080/",
          "height": 112
        },
        "id": "TPYYmRaqouFy",
        "outputId": "f8f9e989-7e86-4bc8-f811-11bbe500930b"
      },
      "execution_count": 50,
      "outputs": [
        {
          "output_type": "execute_result",
          "data": {
            "text/plain": [
              "   Predicted Price(in Lakhs)                                           Name  \\\n",
              "0                    16.2724                         Toyota Fortuner 4x4 AT   \n",
              "1                    16.1150  Toyota Innova Crysta 2016-2020 2.8 GX AT BSIV   \n",
              "\n",
              "   Age(in years)  Max Power(in BHP)  KM Driven              datetime  \n",
              "0            7.0              168.5     290000  11/29/2022, 08:48:11  \n",
              "1            7.0              171.5      60100  11/29/2022, 09:14:16  "
            ],
            "text/html": [
              "\n",
              "  <div id=\"df-d6656022-eca2-41fa-b107-012abe93bf66\">\n",
              "    <div class=\"colab-df-container\">\n",
              "      <div>\n",
              "<style scoped>\n",
              "    .dataframe tbody tr th:only-of-type {\n",
              "        vertical-align: middle;\n",
              "    }\n",
              "\n",
              "    .dataframe tbody tr th {\n",
              "        vertical-align: top;\n",
              "    }\n",
              "\n",
              "    .dataframe thead th {\n",
              "        text-align: right;\n",
              "    }\n",
              "</style>\n",
              "<table border=\"1\" class=\"dataframe\">\n",
              "  <thead>\n",
              "    <tr style=\"text-align: right;\">\n",
              "      <th></th>\n",
              "      <th>Predicted Price(in Lakhs)</th>\n",
              "      <th>Name</th>\n",
              "      <th>Age(in years)</th>\n",
              "      <th>Max Power(in BHP)</th>\n",
              "      <th>KM Driven</th>\n",
              "      <th>datetime</th>\n",
              "    </tr>\n",
              "  </thead>\n",
              "  <tbody>\n",
              "    <tr>\n",
              "      <th>0</th>\n",
              "      <td>16.2724</td>\n",
              "      <td>Toyota Fortuner 4x4 AT</td>\n",
              "      <td>7.0</td>\n",
              "      <td>168.5</td>\n",
              "      <td>290000</td>\n",
              "      <td>11/29/2022, 08:48:11</td>\n",
              "    </tr>\n",
              "    <tr>\n",
              "      <th>1</th>\n",
              "      <td>16.1150</td>\n",
              "      <td>Toyota Innova Crysta 2016-2020 2.8 GX AT BSIV</td>\n",
              "      <td>7.0</td>\n",
              "      <td>171.5</td>\n",
              "      <td>60100</td>\n",
              "      <td>11/29/2022, 09:14:16</td>\n",
              "    </tr>\n",
              "  </tbody>\n",
              "</table>\n",
              "</div>\n",
              "      <button class=\"colab-df-convert\" onclick=\"convertToInteractive('df-d6656022-eca2-41fa-b107-012abe93bf66')\"\n",
              "              title=\"Convert this dataframe to an interactive table.\"\n",
              "              style=\"display:none;\">\n",
              "        \n",
              "  <svg xmlns=\"http://www.w3.org/2000/svg\" height=\"24px\"viewBox=\"0 0 24 24\"\n",
              "       width=\"24px\">\n",
              "    <path d=\"M0 0h24v24H0V0z\" fill=\"none\"/>\n",
              "    <path d=\"M18.56 5.44l.94 2.06.94-2.06 2.06-.94-2.06-.94-.94-2.06-.94 2.06-2.06.94zm-11 1L8.5 8.5l.94-2.06 2.06-.94-2.06-.94L8.5 2.5l-.94 2.06-2.06.94zm10 10l.94 2.06.94-2.06 2.06-.94-2.06-.94-.94-2.06-.94 2.06-2.06.94z\"/><path d=\"M17.41 7.96l-1.37-1.37c-.4-.4-.92-.59-1.43-.59-.52 0-1.04.2-1.43.59L10.3 9.45l-7.72 7.72c-.78.78-.78 2.05 0 2.83L4 21.41c.39.39.9.59 1.41.59.51 0 1.02-.2 1.41-.59l7.78-7.78 2.81-2.81c.8-.78.8-2.07 0-2.86zM5.41 20L4 18.59l7.72-7.72 1.47 1.35L5.41 20z\"/>\n",
              "  </svg>\n",
              "      </button>\n",
              "      \n",
              "  <style>\n",
              "    .colab-df-container {\n",
              "      display:flex;\n",
              "      flex-wrap:wrap;\n",
              "      gap: 12px;\n",
              "    }\n",
              "\n",
              "    .colab-df-convert {\n",
              "      background-color: #E8F0FE;\n",
              "      border: none;\n",
              "      border-radius: 50%;\n",
              "      cursor: pointer;\n",
              "      display: none;\n",
              "      fill: #1967D2;\n",
              "      height: 32px;\n",
              "      padding: 0 0 0 0;\n",
              "      width: 32px;\n",
              "    }\n",
              "\n",
              "    .colab-df-convert:hover {\n",
              "      background-color: #E2EBFA;\n",
              "      box-shadow: 0px 1px 2px rgba(60, 64, 67, 0.3), 0px 1px 3px 1px rgba(60, 64, 67, 0.15);\n",
              "      fill: #174EA6;\n",
              "    }\n",
              "\n",
              "    [theme=dark] .colab-df-convert {\n",
              "      background-color: #3B4455;\n",
              "      fill: #D2E3FC;\n",
              "    }\n",
              "\n",
              "    [theme=dark] .colab-df-convert:hover {\n",
              "      background-color: #434B5C;\n",
              "      box-shadow: 0px 1px 3px 1px rgba(0, 0, 0, 0.15);\n",
              "      filter: drop-shadow(0px 1px 2px rgba(0, 0, 0, 0.3));\n",
              "      fill: #FFFFFF;\n",
              "    }\n",
              "  </style>\n",
              "\n",
              "      <script>\n",
              "        const buttonEl =\n",
              "          document.querySelector('#df-d6656022-eca2-41fa-b107-012abe93bf66 button.colab-df-convert');\n",
              "        buttonEl.style.display =\n",
              "          google.colab.kernel.accessAllowed ? 'block' : 'none';\n",
              "\n",
              "        async function convertToInteractive(key) {\n",
              "          const element = document.querySelector('#df-d6656022-eca2-41fa-b107-012abe93bf66');\n",
              "          const dataTable =\n",
              "            await google.colab.kernel.invokeFunction('convertToInteractive',\n",
              "                                                     [key], {});\n",
              "          if (!dataTable) return;\n",
              "\n",
              "          const docLinkHtml = 'Like what you see? Visit the ' +\n",
              "            '<a target=\"_blank\" href=https://colab.research.google.com/notebooks/data_table.ipynb>data table notebook</a>'\n",
              "            + ' to learn more about interactive tables.';\n",
              "          element.innerHTML = '';\n",
              "          dataTable['output_type'] = 'display_data';\n",
              "          await google.colab.output.renderOutput(dataTable, element);\n",
              "          const docLink = document.createElement('div');\n",
              "          docLink.innerHTML = docLinkHtml;\n",
              "          element.appendChild(docLink);\n",
              "        }\n",
              "      </script>\n",
              "    </div>\n",
              "  </div>\n",
              "  "
            ]
          },
          "metadata": {},
          "execution_count": 50
        }
      ]
    },
    {
      "cell_type": "code",
      "source": [
        "import dataframe_image as dfi\n",
        "\n",
        "df_recent = history_df.tail(10)\n",
        " \n",
        "dfi.export(df_recent, 'assets/df_recent.png', table_conversion = 'matplotlib')"
      ],
      "metadata": {
        "id": "RwwOLhEZQgny"
      },
      "execution_count": 51,
      "outputs": []
    },
    {
      "cell_type": "code",
      "source": [
        "history_df.to_csv('assets/output.csv')"
      ],
      "metadata": {
        "id": "o1NnFS3spVeh"
      },
      "execution_count": 52,
      "outputs": []
    }
  ]
}
