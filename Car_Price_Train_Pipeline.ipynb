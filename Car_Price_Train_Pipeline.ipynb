{
  "nbformat": 4,
  "nbformat_minor": 0,
  "metadata": {
    "colab": {
      "provenance": [],
      "collapsed_sections": [],
      "authorship_tag": "ABX9TyNd5yieixEVjH8pnigOs1p+"
    },
    "kernelspec": {
      "name": "python3",
      "display_name": "Python 3"
    },
    "language_info": {
      "name": "python"
    },
    "widgets": {
      "application/vnd.jupyter.widget-state+json": {
        "4dc650819a5146e18cf34a843c4af4aa": {
          "model_module": "@jupyter-widgets/controls",
          "model_name": "HBoxModel",
          "model_module_version": "1.5.0",
          "state": {
            "_dom_classes": [],
            "_model_module": "@jupyter-widgets/controls",
            "_model_module_version": "1.5.0",
            "_model_name": "HBoxModel",
            "_view_count": null,
            "_view_module": "@jupyter-widgets/controls",
            "_view_module_version": "1.5.0",
            "_view_name": "HBoxView",
            "box_style": "",
            "children": [
              "IPY_MODEL_fa8a5ccf66fc412bbbdc5d3e4a4f0e0d",
              "IPY_MODEL_e77f7a68f13e4eb38926ffd3cec6670e",
              "IPY_MODEL_92cc3bf541114d58ab013906ee43dc1a"
            ],
            "layout": "IPY_MODEL_b62d989bfb374433a9ae1c9277873ab5"
          }
        },
        "fa8a5ccf66fc412bbbdc5d3e4a4f0e0d": {
          "model_module": "@jupyter-widgets/controls",
          "model_name": "HTMLModel",
          "model_module_version": "1.5.0",
          "state": {
            "_dom_classes": [],
            "_model_module": "@jupyter-widgets/controls",
            "_model_module_version": "1.5.0",
            "_model_name": "HTMLModel",
            "_view_count": null,
            "_view_module": "@jupyter-widgets/controls",
            "_view_module_version": "1.5.0",
            "_view_name": "HTMLView",
            "description": "",
            "description_tooltip": null,
            "layout": "IPY_MODEL_d67a8f13c98447b791040c0eb7c15163",
            "placeholder": "​",
            "style": "IPY_MODEL_533abbae1eac433eb6cf443f22cc3946",
            "value": "Model export complete: 100%"
          }
        },
        "e77f7a68f13e4eb38926ffd3cec6670e": {
          "model_module": "@jupyter-widgets/controls",
          "model_name": "FloatProgressModel",
          "model_module_version": "1.5.0",
          "state": {
            "_dom_classes": [],
            "_model_module": "@jupyter-widgets/controls",
            "_model_module_version": "1.5.0",
            "_model_name": "FloatProgressModel",
            "_view_count": null,
            "_view_module": "@jupyter-widgets/controls",
            "_view_module_version": "1.5.0",
            "_view_name": "ProgressView",
            "bar_style": "success",
            "description": "",
            "description_tooltip": null,
            "layout": "IPY_MODEL_574535f17b2143148c7b2ae8971b83eb",
            "max": 6,
            "min": 0,
            "orientation": "horizontal",
            "style": "IPY_MODEL_03828aee521343f2b654c69d76eace68",
            "value": 6
          }
        },
        "92cc3bf541114d58ab013906ee43dc1a": {
          "model_module": "@jupyter-widgets/controls",
          "model_name": "HTMLModel",
          "model_module_version": "1.5.0",
          "state": {
            "_dom_classes": [],
            "_model_module": "@jupyter-widgets/controls",
            "_model_module_version": "1.5.0",
            "_model_name": "HTMLModel",
            "_view_count": null,
            "_view_module": "@jupyter-widgets/controls",
            "_view_module_version": "1.5.0",
            "_view_name": "HTMLView",
            "description": "",
            "description_tooltip": null,
            "layout": "IPY_MODEL_7dd1c069ccb04424a655036887f6041a",
            "placeholder": "​",
            "style": "IPY_MODEL_4b7bd25395d54add9b89ccc58e1451c8",
            "value": " 6/6 [00:44&lt;00:00,  8.62s/it]"
          }
        },
        "b62d989bfb374433a9ae1c9277873ab5": {
          "model_module": "@jupyter-widgets/base",
          "model_name": "LayoutModel",
          "model_module_version": "1.2.0",
          "state": {
            "_model_module": "@jupyter-widgets/base",
            "_model_module_version": "1.2.0",
            "_model_name": "LayoutModel",
            "_view_count": null,
            "_view_module": "@jupyter-widgets/base",
            "_view_module_version": "1.2.0",
            "_view_name": "LayoutView",
            "align_content": null,
            "align_items": null,
            "align_self": null,
            "border": null,
            "bottom": null,
            "display": null,
            "flex": null,
            "flex_flow": null,
            "grid_area": null,
            "grid_auto_columns": null,
            "grid_auto_flow": null,
            "grid_auto_rows": null,
            "grid_column": null,
            "grid_gap": null,
            "grid_row": null,
            "grid_template_areas": null,
            "grid_template_columns": null,
            "grid_template_rows": null,
            "height": null,
            "justify_content": null,
            "justify_items": null,
            "left": null,
            "margin": null,
            "max_height": null,
            "max_width": null,
            "min_height": null,
            "min_width": null,
            "object_fit": null,
            "object_position": null,
            "order": null,
            "overflow": null,
            "overflow_x": null,
            "overflow_y": null,
            "padding": null,
            "right": null,
            "top": null,
            "visibility": null,
            "width": null
          }
        },
        "d67a8f13c98447b791040c0eb7c15163": {
          "model_module": "@jupyter-widgets/base",
          "model_name": "LayoutModel",
          "model_module_version": "1.2.0",
          "state": {
            "_model_module": "@jupyter-widgets/base",
            "_model_module_version": "1.2.0",
            "_model_name": "LayoutModel",
            "_view_count": null,
            "_view_module": "@jupyter-widgets/base",
            "_view_module_version": "1.2.0",
            "_view_name": "LayoutView",
            "align_content": null,
            "align_items": null,
            "align_self": null,
            "border": null,
            "bottom": null,
            "display": null,
            "flex": null,
            "flex_flow": null,
            "grid_area": null,
            "grid_auto_columns": null,
            "grid_auto_flow": null,
            "grid_auto_rows": null,
            "grid_column": null,
            "grid_gap": null,
            "grid_row": null,
            "grid_template_areas": null,
            "grid_template_columns": null,
            "grid_template_rows": null,
            "height": null,
            "justify_content": null,
            "justify_items": null,
            "left": null,
            "margin": null,
            "max_height": null,
            "max_width": null,
            "min_height": null,
            "min_width": null,
            "object_fit": null,
            "object_position": null,
            "order": null,
            "overflow": null,
            "overflow_x": null,
            "overflow_y": null,
            "padding": null,
            "right": null,
            "top": null,
            "visibility": null,
            "width": null
          }
        },
        "533abbae1eac433eb6cf443f22cc3946": {
          "model_module": "@jupyter-widgets/controls",
          "model_name": "DescriptionStyleModel",
          "model_module_version": "1.5.0",
          "state": {
            "_model_module": "@jupyter-widgets/controls",
            "_model_module_version": "1.5.0",
            "_model_name": "DescriptionStyleModel",
            "_view_count": null,
            "_view_module": "@jupyter-widgets/base",
            "_view_module_version": "1.2.0",
            "_view_name": "StyleView",
            "description_width": ""
          }
        },
        "574535f17b2143148c7b2ae8971b83eb": {
          "model_module": "@jupyter-widgets/base",
          "model_name": "LayoutModel",
          "model_module_version": "1.2.0",
          "state": {
            "_model_module": "@jupyter-widgets/base",
            "_model_module_version": "1.2.0",
            "_model_name": "LayoutModel",
            "_view_count": null,
            "_view_module": "@jupyter-widgets/base",
            "_view_module_version": "1.2.0",
            "_view_name": "LayoutView",
            "align_content": null,
            "align_items": null,
            "align_self": null,
            "border": null,
            "bottom": null,
            "display": null,
            "flex": null,
            "flex_flow": null,
            "grid_area": null,
            "grid_auto_columns": null,
            "grid_auto_flow": null,
            "grid_auto_rows": null,
            "grid_column": null,
            "grid_gap": null,
            "grid_row": null,
            "grid_template_areas": null,
            "grid_template_columns": null,
            "grid_template_rows": null,
            "height": null,
            "justify_content": null,
            "justify_items": null,
            "left": null,
            "margin": null,
            "max_height": null,
            "max_width": null,
            "min_height": null,
            "min_width": null,
            "object_fit": null,
            "object_position": null,
            "order": null,
            "overflow": null,
            "overflow_x": null,
            "overflow_y": null,
            "padding": null,
            "right": null,
            "top": null,
            "visibility": null,
            "width": null
          }
        },
        "03828aee521343f2b654c69d76eace68": {
          "model_module": "@jupyter-widgets/controls",
          "model_name": "ProgressStyleModel",
          "model_module_version": "1.5.0",
          "state": {
            "_model_module": "@jupyter-widgets/controls",
            "_model_module_version": "1.5.0",
            "_model_name": "ProgressStyleModel",
            "_view_count": null,
            "_view_module": "@jupyter-widgets/base",
            "_view_module_version": "1.2.0",
            "_view_name": "StyleView",
            "bar_color": null,
            "description_width": ""
          }
        },
        "7dd1c069ccb04424a655036887f6041a": {
          "model_module": "@jupyter-widgets/base",
          "model_name": "LayoutModel",
          "model_module_version": "1.2.0",
          "state": {
            "_model_module": "@jupyter-widgets/base",
            "_model_module_version": "1.2.0",
            "_model_name": "LayoutModel",
            "_view_count": null,
            "_view_module": "@jupyter-widgets/base",
            "_view_module_version": "1.2.0",
            "_view_name": "LayoutView",
            "align_content": null,
            "align_items": null,
            "align_self": null,
            "border": null,
            "bottom": null,
            "display": null,
            "flex": null,
            "flex_flow": null,
            "grid_area": null,
            "grid_auto_columns": null,
            "grid_auto_flow": null,
            "grid_auto_rows": null,
            "grid_column": null,
            "grid_gap": null,
            "grid_row": null,
            "grid_template_areas": null,
            "grid_template_columns": null,
            "grid_template_rows": null,
            "height": null,
            "justify_content": null,
            "justify_items": null,
            "left": null,
            "margin": null,
            "max_height": null,
            "max_width": null,
            "min_height": null,
            "min_width": null,
            "object_fit": null,
            "object_position": null,
            "order": null,
            "overflow": null,
            "overflow_x": null,
            "overflow_y": null,
            "padding": null,
            "right": null,
            "top": null,
            "visibility": null,
            "width": null
          }
        },
        "4b7bd25395d54add9b89ccc58e1451c8": {
          "model_module": "@jupyter-widgets/controls",
          "model_name": "DescriptionStyleModel",
          "model_module_version": "1.5.0",
          "state": {
            "_model_module": "@jupyter-widgets/controls",
            "_model_module_version": "1.5.0",
            "_model_name": "DescriptionStyleModel",
            "_view_count": null,
            "_view_module": "@jupyter-widgets/base",
            "_view_module_version": "1.2.0",
            "_view_name": "StyleView",
            "description_width": ""
          }
        }
      }
    }
  },
  "cells": [
    {
      "cell_type": "markdown",
      "source": [
        "# Training Pipeline"
      ],
      "metadata": {
        "id": "Kn145OT5BI9p"
      }
    },
    {
      "cell_type": "markdown",
      "source": [
        "## Installing Hopsworks (feature store)"
      ],
      "metadata": {
        "id": "P21bnP3RBnAY"
      }
    },
    {
      "cell_type": "code",
      "execution_count": 7,
      "metadata": {
        "id": "Krii7HEsA461"
      },
      "outputs": [],
      "source": [
        "!pip install -U hopsworks --quiet"
      ]
    },
    {
      "cell_type": "code",
      "source": [
        "# Importing ML libraries \n",
        "from sklearn.metrics import r2_score, mean_absolute_error, mean_squared_error, make_scorer\n",
        "from sklearn.model_selection import GridSearchCV\n",
        "from sklearn.ensemble import RandomForestRegressor\n",
        "# Importing pandas, numpy and hopsworks\n",
        "import pandas as pd\n",
        "import seaborn as sns\n",
        "import hopsworks"
      ],
      "metadata": {
        "id": "H2346dy3BIGV"
      },
      "execution_count": 13,
      "outputs": []
    },
    {
      "cell_type": "markdown",
      "source": [
        "### Creating a feaure view in Hopsworks"
      ],
      "metadata": {
        "id": "PLogDnkjnyBq"
      }
    },
    {
      "cell_type": "code",
      "source": [
        "project = hopsworks.login()\n",
        "fs = project.get_feature_store()\n",
        "\n",
        "try: \n",
        "    feature_view = fs.get_feature_view(name=\"car_prices\", version=1)\n",
        "except:\n",
        "    car_fg  = fs.get_feature_group(name=\"car_prices\", version=1)\n",
        "    query = car_fg .select_all()\n",
        "    feature_view = fs.create_feature_view(name=\"car_prices\",\n",
        "                                      version=1,\n",
        "                                      description=\"Read from car price dataset\",\n",
        "                                      labels=[\"selling_price\"],\n",
        "                                      query=query)"
      ],
      "metadata": {
        "colab": {
          "base_uri": "https://localhost:8080/"
        },
        "id": "_DJKaURTBXqY",
        "outputId": "296cc0fa-0a98-42f2-9be3-a9b9f1b7793b"
      },
      "execution_count": 15,
      "outputs": [
        {
          "output_type": "stream",
          "name": "stdout",
          "text": [
            "Connection closed.\n",
            "Connected. Call `.close()` to terminate connection gracefully.\n",
            "\n",
            "Logged in to project, explore it here https://c.app.hopsworks.ai:443/p/3342\n",
            "Connected. Call `.close()` to terminate connection gracefully.\n",
            "Feature view created successfully, explore it at \n",
            "https://c.app.hopsworks.ai:443/p/3342/fs/3289/fv/car_prices/version/1\n"
          ]
        }
      ]
    },
    {
      "cell_type": "code",
      "source": [
        "# Splitting the data into train and test sets\n",
        "X_train, X_test, y_train, y_test = feature_view.train_test_split(0.15)"
      ],
      "metadata": {
        "colab": {
          "base_uri": "https://localhost:8080/"
        },
        "id": "zzYQwO4dCP5k",
        "outputId": "2337b6a4-bb48-4666-e342-9ca43626b70b"
      },
      "execution_count": 16,
      "outputs": [
        {
          "output_type": "stream",
          "name": "stderr",
          "text": [
            "VersionWarning: Incremented version to `1`.\n"
          ]
        }
      ]
    },
    {
      "cell_type": "code",
      "source": [
        "# Dropping the high cardinality feature name from X_train and X_test\n",
        "X_train.drop(\"full_name\", axis = 1, inplace = True)\n",
        "X_test.drop(\"full_name\", axis = 1, inplace = True)"
      ],
      "metadata": {
        "id": "ZhxvO0AWCeyr"
      },
      "execution_count": 17,
      "outputs": []
    },
    {
      "cell_type": "code",
      "source": [
        "model = RandomForestRegressor()\n",
        "model.fit(X_train,y_train)\n",
        "model.score(X_test,y_test)\n",
        "mae = mean_absolute_error(y_test, model.predict(X_test))"
      ],
      "metadata": {
        "id": "Vhgk9AaJiduK"
      },
      "execution_count": null,
      "outputs": []
    },
    {
      "cell_type": "code",
      "source": [
        "print(\"The mean absolute error in lakhs is:\", mae)"
      ],
      "metadata": {
        "colab": {
          "base_uri": "https://localhost:8080/"
        },
        "id": "42ECt9m-kbKX",
        "outputId": "a3d6521b-573a-4be1-ca5d-1c032d7bb00e"
      },
      "execution_count": 40,
      "outputs": [
        {
          "output_type": "stream",
          "name": "stdout",
          "text": [
            "The mean absolute error in lakhs is: 1.478139810529481\n"
          ]
        }
      ]
    },
    {
      "cell_type": "markdown",
      "source": [
        "### Saving the model in the model registry of Hopsworks"
      ],
      "metadata": {
        "id": "SpGwLfVVoJHw"
      }
    },
    {
      "cell_type": "code",
      "source": [
        "from hsml.schema import Schema\n",
        "from hsml.model_schema import ModelSchema\n",
        "import os\n",
        "import joblib\n",
        "import hopsworks\n",
        "import shutil\n",
        "\n",
        "project =  hopsworks.login()\n",
        "mr = project.get_model_registry()\n",
        "\n",
        "# The 'iris_model' directory will be saved to the model registry\n",
        "model_dir=\"car_prices_model\"\n",
        "if os.path.isdir(model_dir) == False:\n",
        "    os.mkdir(model_dir)\n",
        "joblib.dump(model, model_dir + \"/car_prices_model.pkl\")\n",
        "\n",
        "input_example = X_train.sample()\n",
        "input_schema = Schema(X_train)\n",
        "output_schema = Schema(y_train)\n",
        "model_schema = ModelSchema(input_schema, output_schema)\n",
        "\n",
        "car_prices_model = mr.python.create_model(\n",
        "    version=1,\n",
        "    name=\"car_prices\", \n",
        "    metrics={\"Mean Absolute Error\" : mae},\n",
        "    model_schema=model_schema,\n",
        "    input_example=input_example, \n",
        "    description=\"Car Price Predictor\")\n",
        "\n",
        "car_prices_model.save(model_dir)"
      ],
      "metadata": {
        "colab": {
          "base_uri": "https://localhost:8080/",
          "height": 170,
          "referenced_widgets": [
            "4dc650819a5146e18cf34a843c4af4aa",
            "fa8a5ccf66fc412bbbdc5d3e4a4f0e0d",
            "e77f7a68f13e4eb38926ffd3cec6670e",
            "92cc3bf541114d58ab013906ee43dc1a",
            "b62d989bfb374433a9ae1c9277873ab5",
            "d67a8f13c98447b791040c0eb7c15163",
            "533abbae1eac433eb6cf443f22cc3946",
            "574535f17b2143148c7b2ae8971b83eb",
            "03828aee521343f2b654c69d76eace68",
            "7dd1c069ccb04424a655036887f6041a",
            "4b7bd25395d54add9b89ccc58e1451c8"
          ]
        },
        "id": "h8xy8S69lw-H",
        "outputId": "8f1bdc18-8868-42c2-b6ce-3d85cdad4a31"
      },
      "execution_count": 36,
      "outputs": [
        {
          "output_type": "stream",
          "name": "stdout",
          "text": [
            "Connection closed.\n",
            "Connected. Call `.close()` to terminate connection gracefully.\n",
            "\n",
            "Logged in to project, explore it here https://c.app.hopsworks.ai:443/p/3342\n",
            "Connected. Call `.close()` to terminate connection gracefully.\n"
          ]
        },
        {
          "output_type": "display_data",
          "data": {
            "text/plain": [
              "  0%|          | 0/6 [00:00<?, ?it/s]"
            ],
            "application/vnd.jupyter.widget-view+json": {
              "version_major": 2,
              "version_minor": 0,
              "model_id": "4dc650819a5146e18cf34a843c4af4aa"
            }
          },
          "metadata": {}
        },
        {
          "output_type": "stream",
          "name": "stdout",
          "text": [
            "Model created, explore it at https://c.app.hopsworks.ai:443/p/3342/models/car_prices/1\n"
          ]
        },
        {
          "output_type": "execute_result",
          "data": {
            "text/plain": [
              "Model(name: 'car_prices', version: 1)"
            ]
          },
          "metadata": {},
          "execution_count": 36
        }
      ]
    }
  ]
}