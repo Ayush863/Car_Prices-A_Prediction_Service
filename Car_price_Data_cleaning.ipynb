{
  "nbformat": 4,
  "nbformat_minor": 0,
  "metadata": {
    "colab": {
      "private_outputs": true,
      "provenance": [],
      "collapsed_sections": []
    },
    "kernelspec": {
      "name": "python3",
      "display_name": "Python 3"
    },
    "language_info": {
      "name": "python"
    }
  },
  "cells": [
    {
      "cell_type": "markdown",
      "source": [
        "# Importing pandas and numpy and loading data\n"
      ],
      "metadata": {
        "id": "iwxTx7zUuijH"
      }
    },
    {
      "cell_type": "code",
      "source": [
        "import pandas as pd\n",
        "import numpy as np"
      ],
      "metadata": {
        "id": "aetMPKOxXk6G"
      },
      "execution_count": null,
      "outputs": []
    },
    {
      "cell_type": "code",
      "source": [
        "raw_dataset = pd.read_csv(\"/content/drive/MyDrive/ML/Datasets/Cardekho_Extract.csv\")"
      ],
      "metadata": {
        "id": "5bDUR3AlW4Ni"
      },
      "execution_count": null,
      "outputs": []
    },
    {
      "cell_type": "markdown",
      "source": [
        "## Data Cleaning"
      ],
      "metadata": {
        "id": "gMXSMO5Vu0Mr"
      }
    },
    {
      "cell_type": "code",
      "source": [
        "raw_dataset['seats'] = raw_dataset['seats'].str.split('s').str[1]"
      ],
      "metadata": {
        "id": "FpET4Mnxn-7X"
      },
      "execution_count": null,
      "outputs": []
    },
    {
      "cell_type": "code",
      "source": [
        "raw_dataset.drop(raw_dataset.columns[[0, 1, 2, 5]], axis=1, inplace=True)\n",
        "# raw_dataset.head()"
      ],
      "metadata": {
        "id": "YrWzBarEZWXA"
      },
      "execution_count": null,
      "outputs": []
    },
    {
      "cell_type": "markdown",
      "source": [
        "## Mileage"
      ],
      "metadata": {
        "id": "u3CchugMvOCJ"
      }
    },
    {
      "cell_type": "code",
      "source": [
        "raw_dataset['mileage'] = raw_dataset['mileage'].str.split('e').str[2]\n",
        "raw_dataset['mileage'] = raw_dataset['mileage'].str.split(' ').str[0]"
      ],
      "metadata": {
        "id": "pWoOy3KYocS7"
      },
      "execution_count": null,
      "outputs": []
    },
    {
      "cell_type": "markdown",
      "source": [
        "## Engine"
      ],
      "metadata": {
        "id": "LRCs3hskvQlQ"
      }
    },
    {
      "cell_type": "code",
      "source": [
        "raw_dataset['engine'] = raw_dataset['engine'].str.split('e').str[1]\n",
        "raw_dataset['engine'] = raw_dataset['engine'].str.split(' ').str[0]"
      ],
      "metadata": {
        "id": "tEET38tpp6rf"
      },
      "execution_count": null,
      "outputs": []
    },
    {
      "cell_type": "code",
      "source": [
        "raw_dataset.isnull().sum()"
      ],
      "metadata": {
        "id": "i3plW5-5ckYU"
      },
      "execution_count": null,
      "outputs": []
    },
    {
      "cell_type": "code",
      "source": [
        "raw_dataset.dropna(how='all', inplace = True)"
      ],
      "metadata": {
        "id": "sM2ZrfNqfDHR"
      },
      "execution_count": null,
      "outputs": []
    },
    {
      "cell_type": "code",
      "source": [
        "raw_dataset.isnull().sum()"
      ],
      "metadata": {
        "id": "PLoM9PKqfFYV"
      },
      "execution_count": null,
      "outputs": []
    },
    {
      "cell_type": "markdown",
      "source": [
        "## Seats"
      ],
      "metadata": {
        "id": "gdIcpsulvT7t"
      }
    },
    {
      "cell_type": "code",
      "source": [
        "raw_dataset['seats'].fillna(raw_dataset['seats'].mode()[0], inplace=True)"
      ],
      "metadata": {
        "id": "X_1mTwKnsNbv"
      },
      "execution_count": null,
      "outputs": []
    },
    {
      "cell_type": "code",
      "source": [
        "raw_dataset.dropna(subset=['engine'], inplace = True)"
      ],
      "metadata": {
        "id": "LqtrSAI2s6tO"
      },
      "execution_count": null,
      "outputs": []
    },
    {
      "cell_type": "markdown",
      "source": [
        "## Selling_price"
      ],
      "metadata": {
        "id": "6Mly1ZykvWNF"
      }
    },
    {
      "cell_type": "code",
      "source": [
        "raw_dataset['selling_price'] = raw_dataset['selling_price'].str.split(' ').str[0]"
      ],
      "metadata": {
        "id": "wyLiR6KHuR_l"
      },
      "execution_count": null,
      "outputs": []
    },
    {
      "cell_type": "markdown",
      "source": [
        "## km_driven"
      ],
      "metadata": {
        "id": "hD7hF-UZvY3y"
      }
    },
    {
      "cell_type": "code",
      "source": [
        "raw_dataset['km_driven'] = raw_dataset['km_driven'].str.split(' ').str[0]"
      ],
      "metadata": {
        "id": "6AQcnRIFu8oe"
      },
      "execution_count": null,
      "outputs": []
    },
    {
      "cell_type": "markdown",
      "source": [
        "## max_power"
      ],
      "metadata": {
        "id": "P-buXuoBvdbY"
      }
    },
    {
      "cell_type": "code",
      "source": [
        "raw_dataset['max_power'] = raw_dataset['max_power'].str.split('r').str[1]\n",
        "raw_dataset['max_power'] = raw_dataset['max_power'].str.split(' ').str[0]"
      ],
      "metadata": {
        "id": "XUuANaQOvNoW"
      },
      "execution_count": null,
      "outputs": []
    },
    {
      "cell_type": "code",
      "source": [
        "clean_dataset = raw_dataset.copy()\n",
        "clean_dataset.to_csv('car_prices_clean.csv', index = False)"
      ],
      "metadata": {
        "id": "z-pzgKUgttmp"
      },
      "execution_count": null,
      "outputs": []
    },
    {
      "cell_type": "code",
      "source": [
        "df = pd.read_csv('/content/car_prices_clean.csv')"
      ],
      "metadata": {
        "id": "6OqvnWR0kCnQ"
      },
      "execution_count": null,
      "outputs": []
    },
    {
      "cell_type": "code",
      "source": [
        "df.head()"
      ],
      "metadata": {
        "id": "EAkgOO5NkP_m"
      },
      "execution_count": null,
      "outputs": []
    },
    {
      "cell_type": "code",
      "source": [
        "df['km_driven'] = df['km_driven'].str.replace(',', '')"
      ],
      "metadata": {
        "id": "7FsrJc2clyhi"
      },
      "execution_count": null,
      "outputs": []
    },
    {
      "cell_type": "code",
      "source": [
        "df[\"km_driven\"] = pd.to_numeric(df[\"km_driven\"])"
      ],
      "metadata": {
        "id": "KuNjGAQmkyDB"
      },
      "execution_count": null,
      "outputs": []
    },
    {
      "cell_type": "markdown",
      "source": [
        "### Basic Feature Engineering, converting year column to age and dropping the year column"
      ],
      "metadata": {
        "id": "g4BGPt5Lu-sw"
      }
    },
    {
      "cell_type": "code",
      "source": [
        "df['age'] = 2022 - df['year']"
      ],
      "metadata": {
        "id": "BxqjANZJqwL7"
      },
      "execution_count": null,
      "outputs": []
    },
    {
      "cell_type": "code",
      "source": [
        "df.drop('year',axis = 1, inplace = True)"
      ],
      "metadata": {
        "id": "J6RuHTSRsICs"
      },
      "execution_count": null,
      "outputs": []
    },
    {
      "cell_type": "code",
      "source": [
        "df.dropna(how = 'any', inplace = True)"
      ],
      "metadata": {
        "id": "WOH_vrcqsYQR"
      },
      "execution_count": null,
      "outputs": []
    },
    {
      "cell_type": "markdown",
      "source": [
        "## Exporting Clean dataset"
      ],
      "metadata": {
        "id": "_uK0osbxu4sf"
      }
    },
    {
      "cell_type": "code",
      "source": [
        "df.to_csv('car_prices_clean_v2.csv', index = False)"
      ],
      "metadata": {
        "id": "SiQbuwf9tMJn"
      },
      "execution_count": null,
      "outputs": []
    }
  ]
}